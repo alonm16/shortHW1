{
 "cells": [
  {
   "cell_type": "markdown",
   "metadata": {
    "id": "uLW7BK5P2aom"
   },
   "source": [
    "# Short HW1 - Preparing for the course\n",
    "### Useful python libraries, Probability, and Linear algebera\n",
    "\n",
    "## Instructions\n",
    "\n",
    "### General\n",
    "\n",
    "*   **First, don't panic!**\n",
    "    * This assignment seems longer than it actually is.\n",
    "    * In the first part, you are mostly required to run *existing* code and complete short python commands here and there. \n",
    "    * In the two other parts you need to answer overall 4 analytic questions.\n",
    "    * **Note**: The other 4 *short* assignments will be shorter and will *not* require programming.\n",
    "\n",
    "*   **Individually or in pairs?** Individually only.\n",
    "*   **Where to ask?** In the [Piazza forum](https://piazza.com/technion.ac.il/fall2021/236756).\n",
    "*   **How to submit?** In the webcourse. \n",
    "*   **What to submit?** A pdf file with the completed jupyter notebook (including the code, plots and other outputs) and the answers to the probability/algebra questions (Hebrew or English are both fine).  \n",
    "Or two separate pdf files in a zip file. All submitted files should contain **your ID number** in their names.\n",
    "*   **When to submit?** Monday 08.11.2021 at 23:59.\n",
    "    * **Late submissions**: each day of delay \"costs\" 5 points, up to 3 days.\n",
    "\n",
    "\n",
    "### Specific\n",
    "\n",
    "*  First part: get familiar with popular python libraries useful for machine learning and data science. We will use these libraries heavily throughout the major programming assignments.\n",
    "   *  You should read the instructions and run the code blocks sequentially.  \n",
    "   In $10$ places you are reqired to complete missing python commands or answer short questions (look for the **TODO** comments, or notations like **(T3)** etc.). Try to understand the flow of this document and the code you run.\n",
    "   * Start by loading the provided jupyter notebook file (*Short_HW1.ipynb*) to [Google Colab](https://colab.research.google.com/), which is a very convenient online tool for running python scripts combined with text, visual plots, and more. \n",
    "   * Alternatively, you can [install jupyter](https://jupyter.org/install) locally on your computer and run the provided notebook there.\n",
    "* Second and third parts: questions on probability and linear algebra to refresh your memory and prepare for the rest of this course.  \n",
    "The questions are mostly analytic but also require completing and running simple code blocks in the jupyter notebook.\n",
    "   * Forgot your linear algebra? Try watching [Essence of LA](https://www.youtube.com/playlist?list=PLZHQObOWTQDPD3MizzM2xVFitgF8hE_ab) or reading [The Matrix Cookbook](http://www2.imm.dtu.dk/pubdb/views/edoc_download.php/3274/pdf/imm3274.pdf).\n",
    "   * Forgot your probability? Try reading [Probability Theory Review for Machine Learning](https://see.stanford.edu/materials/aimlcs229/cs229-prob.pdf).\n",
    "\n",
    "### Important: How to submit the notebook's output?\n",
    "\n",
    "You should only submit PDF file(s).\n",
    "In the print dialog of your browser, you can choose to `Save as PDF`. However, notice that some of the outputs may be cropped (become invisible), which can harm your grade.\n",
    "\n",
    "To prevent this from happening, tune the \"scale\" of the printed file, to fit in the *entire* output. For instance, in Chrome you should lower the value in `More settings->Scale->Custom` to contain the entire output (50%~ scale often works well). Make sure all your answers are visible!\n",
    "\n",
    "\n",
    "# Good luck!\n",
    "\n",
    "---\n",
    "\n",
    "# What is pandas?\n",
    "Python library for Data manipulation and Analysis\n",
    " - Provide expressive data structures designed to make working with “relational” or “labeled” data both easy and intuitive.\n",
    " - Aims to be the fundamental high-level building block for doing practical, real world data analysis in Python.\n",
    " - Built on top of NumPy and is intended to integrate well within a scientific computing.\n",
    " - Inspired by R and Excel.\n",
    " \n",
    "Pandas is well suited for many different kinds of data:\n",
    "- **Tabular data** with heterogeneously-typed columns, as in an SQL table or Excel spreadsheet\n",
    "- Ordered and unordered (not necessarily fixed-frequency) **time series data**.\n",
    "- **Arbitrary matrix data** (homogeneously typed or heterogeneous) with row and column labels\n",
    "- Any other form of observational / statistical data sets (can be unlabeled)\n",
    "\n",
    "Two primary data structures\n",
    "- **Series** (1-dimensional) – Similar to a column in Excel’s spreadsheet\n",
    "- **Data Frame** (2-dimensional) – Similar to R’s data frame\n",
    "\n",
    "A few of the things that Pandas does well\n",
    "- Easy handling of **missing data** (represented as NaN)\n",
    "- Automatic and explicit **data alignment**\n",
    "- Read and Analyze **CSV** , Excel Sheets Easily\n",
    "- Operations\n",
    "- Filtering, Group By, Merging, Slicing and Dicing, Pivoting and Reshaping\n",
    "- Plotting graphs\n",
    "\n",
    "Pandas is very useful for interactive data exploration at the data preparation stage of a project\n",
    "\n",
    "The offical guide to Pandas can be found [here](http://pandas-docs.github.io/pandas-docs-travis/10min.html)"
   ]
  },
  {
   "cell_type": "markdown",
   "metadata": {
    "id": "TDYQN4Ml2aoo"
   },
   "source": [
    "## Pandas Objects"
   ]
  },
  {
   "cell_type": "code",
   "execution_count": 1,
   "metadata": {
    "executionInfo": {
     "elapsed": 4,
     "status": "ok",
     "timestamp": 1635353844382,
     "user": {
      "displayName": "אלון מור",
      "photoUrl": "https://lh3.googleusercontent.com/a/default-user=s64",
      "userId": "02239198260284772342"
     },
     "user_tz": -180
    },
    "id": "Q_c5BMc-2aoq"
   },
   "outputs": [],
   "source": [
    "import pandas as pd\n",
    "import numpy as np"
   ]
  },
  {
   "cell_type": "markdown",
   "metadata": {
    "id": "of7RnZdI2aov"
   },
   "source": [
    "**Series** is like a column in a spreadsheet."
   ]
  },
  {
   "cell_type": "code",
   "execution_count": 2,
   "metadata": {
    "colab": {
     "base_uri": "https://localhost:8080/"
    },
    "executionInfo": {
     "elapsed": 387,
     "status": "ok",
     "timestamp": 1635353854099,
     "user": {
      "displayName": "אלון מור",
      "photoUrl": "https://lh3.googleusercontent.com/a/default-user=s64",
      "userId": "02239198260284772342"
     },
     "user_tz": -180
    },
    "id": "ZhkFcXtD2aov",
    "outputId": "17cdbb1c-8010-40eb-a19a-1169a95ca560"
   },
   "outputs": [
    {
     "data": {
      "text/plain": [
       "0         1\n",
       "1         3\n",
       "2       NaN\n",
       "3    string\n",
       "dtype: object"
      ]
     },
     "execution_count": 2,
     "metadata": {},
     "output_type": "execute_result"
    }
   ],
   "source": [
    "s = pd.Series([1,3,np.nan,'string'])\n",
    "s"
   ]
  },
  {
   "cell_type": "markdown",
   "metadata": {
    "id": "zNJeQjmW2ao2"
   },
   "source": [
    "**DataFrame** is like a spreadsheet – a dictionary of Series objects"
   ]
  },
  {
   "cell_type": "code",
   "execution_count": 3,
   "metadata": {
    "colab": {
     "base_uri": "https://localhost:8080/",
     "height": 235
    },
    "executionInfo": {
     "elapsed": 394,
     "status": "ok",
     "timestamp": 1635353888537,
     "user": {
      "displayName": "אלון מור",
      "photoUrl": "https://lh3.googleusercontent.com/a/default-user=s64",
      "userId": "02239198260284772342"
     },
     "user_tz": -180
    },
    "id": "Y3aJeHpt2ao2",
    "outputId": "f6fdf0ff-cbde-4d3f-8636-9a1e1b74ebbe"
   },
   "outputs": [
    {
     "data": {
      "text/html": [
       "<div>\n",
       "<style scoped>\n",
       "    .dataframe tbody tr th:only-of-type {\n",
       "        vertical-align: middle;\n",
       "    }\n",
       "\n",
       "    .dataframe tbody tr th {\n",
       "        vertical-align: top;\n",
       "    }\n",
       "\n",
       "    .dataframe thead th {\n",
       "        text-align: right;\n",
       "    }\n",
       "</style>\n",
       "<table border=\"1\" class=\"dataframe\">\n",
       "  <thead>\n",
       "    <tr style=\"text-align: right;\">\n",
       "      <th></th>\n",
       "      <th>gene</th>\n",
       "      <th>log2FC</th>\n",
       "      <th>pval</th>\n",
       "    </tr>\n",
       "  </thead>\n",
       "  <tbody>\n",
       "    <tr>\n",
       "      <th>0</th>\n",
       "      <td>ABC</td>\n",
       "      <td>-3.50</td>\n",
       "      <td>0.01</td>\n",
       "    </tr>\n",
       "    <tr>\n",
       "      <th>1</th>\n",
       "      <td>ABC</td>\n",
       "      <td>-2.30</td>\n",
       "      <td>0.12</td>\n",
       "    </tr>\n",
       "    <tr>\n",
       "      <th>2</th>\n",
       "      <td>DEF</td>\n",
       "      <td>1.80</td>\n",
       "      <td>0.03</td>\n",
       "    </tr>\n",
       "    <tr>\n",
       "      <th>3</th>\n",
       "      <td>DEF</td>\n",
       "      <td>3.70</td>\n",
       "      <td>0.01</td>\n",
       "    </tr>\n",
       "    <tr>\n",
       "      <th>4</th>\n",
       "      <td>GHI</td>\n",
       "      <td>0.04</td>\n",
       "      <td>0.43</td>\n",
       "    </tr>\n",
       "    <tr>\n",
       "      <th>5</th>\n",
       "      <td>GHI</td>\n",
       "      <td>-0.10</td>\n",
       "      <td>0.67</td>\n",
       "    </tr>\n",
       "  </tbody>\n",
       "</table>\n",
       "</div>"
      ],
      "text/plain": [
       "  gene  log2FC  pval\n",
       "0  ABC   -3.50  0.01\n",
       "1  ABC   -2.30  0.12\n",
       "2  DEF    1.80  0.03\n",
       "3  DEF    3.70  0.01\n",
       "4  GHI    0.04  0.43\n",
       "5  GHI   -0.10  0.67"
      ]
     },
     "execution_count": 3,
     "metadata": {},
     "output_type": "execute_result"
    }
   ],
   "source": [
    "data = [['ABC', -3.5, 0.01], ['ABC', -2.3, 0.12], ['DEF', 1.8, 0.03],\n",
    "['DEF', 3.7, 0.01], ['GHI', 0.04, 0.43], ['GHI', -0.1, 0.67]]\n",
    "\n",
    "df = pd.DataFrame(data, columns=['gene', 'log2FC', 'pval'])\n",
    "\n",
    "df"
   ]
  },
  {
   "cell_type": "markdown",
   "metadata": {
    "id": "O19TbeqQ2apV"
   },
   "source": [
    "## Input and Output\n",
    "How do you get data into and out of Pandas as spreadsheets?\n",
    " - Pandas can work with XLS or XLSX files.\n",
    " - Can also work with CSV (comma separated values) file\n",
    " - CSV stores plain text in a tabular form\n",
    " - CSV files may have a header\n",
    " - You can use a variety of different field delimiters (rather than a ‘comma’). Check which delimiter your file is using before import!\n",
    " \n",
    "__Import to Pandas__  \n",
    " > `df = pd.read_csv('data.csv', sep='\\t', header=0)`\n",
    "\n",
    "For Excel files, it's the same thing but with read_excel\n",
    "\n",
    "__Export to text file__  \n",
    " > `df.to_csv('data.csv', sep='\\t', header=True, index=False)`\n",
    " \n",
    "The values of header and index depend on if you want to print the column and/or row names"
   ]
  },
  {
   "cell_type": "markdown",
   "metadata": {
    "id": "m2thuF1H2apW"
   },
   "source": [
    "# Case Study – Analyzing Titanic Passengers Data"
   ]
  },
  {
   "cell_type": "code",
   "execution_count": 4,
   "metadata": {
    "executionInfo": {
     "elapsed": 354,
     "status": "ok",
     "timestamp": 1635354142462,
     "user": {
      "displayName": "אלון מור",
      "photoUrl": "https://lh3.googleusercontent.com/a/default-user=s64",
      "userId": "02239198260284772342"
     },
     "user_tz": -180
    },
    "id": "ff1J3-af2apW"
   },
   "outputs": [],
   "source": [
    "import matplotlib.pyplot as plt\n",
    "%matplotlib inline\n",
    "import numpy as np\n",
    "import pandas as pd\n",
    "import os\n",
    "\n",
    "\n",
    "#set your working_dir\n",
    "working_dir = os.path.join(os.getcwd(), 'titanic')\n",
    "\n",
    "url_base = 'https://github.com/Currie32/Titanic-Kaggle-Competition/raw/master/{}.csv'\n",
    "train_url = url_base.format('train')\n",
    "test_url = url_base.format('test')\n",
    "\n",
    "# For .read_csv, always use header=0 when you know row 0 is the header row\n",
    "train = pd.read_csv(train_url, header=0)\n",
    "test = pd.read_csv(test_url, header=0)\n",
    "# You can also load a csv file from a local file rather than a URL\n"
   ]
  },
  {
   "cell_type": "markdown",
   "metadata": {
    "id": "8S_-4wEdUF4D"
   },
   "source": [
    "**(T1)** Use [`pandas.DataFrame.head`](https://pandas.pydata.org/pandas-docs/stable/reference/api/pandas.DataFrame.head.html) to display the top 6 rows of the `train` table\n",
    "\n",
    "\n",
    "\n"
   ]
  },
  {
   "cell_type": "code",
   "execution_count": 5,
   "metadata": {
    "colab": {
     "base_uri": "https://localhost:8080/",
     "height": 303
    },
    "executionInfo": {
     "elapsed": 421,
     "status": "ok",
     "timestamp": 1635354218965,
     "user": {
      "displayName": "אלון מור",
      "photoUrl": "https://lh3.googleusercontent.com/a/default-user=s64",
      "userId": "02239198260284772342"
     },
     "user_tz": -180
    },
    "id": "N358U4JN2apY",
    "outputId": "4a642466-f59e-452b-dbfc-944c8c313073"
   },
   "outputs": [
    {
     "data": {
      "text/html": [
       "<div>\n",
       "<style scoped>\n",
       "    .dataframe tbody tr th:only-of-type {\n",
       "        vertical-align: middle;\n",
       "    }\n",
       "\n",
       "    .dataframe tbody tr th {\n",
       "        vertical-align: top;\n",
       "    }\n",
       "\n",
       "    .dataframe thead th {\n",
       "        text-align: right;\n",
       "    }\n",
       "</style>\n",
       "<table border=\"1\" class=\"dataframe\">\n",
       "  <thead>\n",
       "    <tr style=\"text-align: right;\">\n",
       "      <th></th>\n",
       "      <th>PassengerId</th>\n",
       "      <th>Survived</th>\n",
       "      <th>Pclass</th>\n",
       "      <th>Name</th>\n",
       "      <th>Sex</th>\n",
       "      <th>Age</th>\n",
       "      <th>SibSp</th>\n",
       "      <th>Parch</th>\n",
       "      <th>Ticket</th>\n",
       "      <th>Fare</th>\n",
       "      <th>Cabin</th>\n",
       "      <th>Embarked</th>\n",
       "    </tr>\n",
       "  </thead>\n",
       "  <tbody>\n",
       "    <tr>\n",
       "      <th>0</th>\n",
       "      <td>1</td>\n",
       "      <td>0</td>\n",
       "      <td>3</td>\n",
       "      <td>Braund, Mr. Owen Harris</td>\n",
       "      <td>male</td>\n",
       "      <td>22.0</td>\n",
       "      <td>1</td>\n",
       "      <td>0</td>\n",
       "      <td>A/5 21171</td>\n",
       "      <td>7.2500</td>\n",
       "      <td>NaN</td>\n",
       "      <td>S</td>\n",
       "    </tr>\n",
       "    <tr>\n",
       "      <th>1</th>\n",
       "      <td>2</td>\n",
       "      <td>1</td>\n",
       "      <td>1</td>\n",
       "      <td>Cumings, Mrs. John Bradley (Florence Briggs Th...</td>\n",
       "      <td>female</td>\n",
       "      <td>38.0</td>\n",
       "      <td>1</td>\n",
       "      <td>0</td>\n",
       "      <td>PC 17599</td>\n",
       "      <td>71.2833</td>\n",
       "      <td>C85</td>\n",
       "      <td>C</td>\n",
       "    </tr>\n",
       "    <tr>\n",
       "      <th>2</th>\n",
       "      <td>3</td>\n",
       "      <td>1</td>\n",
       "      <td>3</td>\n",
       "      <td>Heikkinen, Miss. Laina</td>\n",
       "      <td>female</td>\n",
       "      <td>26.0</td>\n",
       "      <td>0</td>\n",
       "      <td>0</td>\n",
       "      <td>STON/O2. 3101282</td>\n",
       "      <td>7.9250</td>\n",
       "      <td>NaN</td>\n",
       "      <td>S</td>\n",
       "    </tr>\n",
       "    <tr>\n",
       "      <th>3</th>\n",
       "      <td>4</td>\n",
       "      <td>1</td>\n",
       "      <td>1</td>\n",
       "      <td>Futrelle, Mrs. Jacques Heath (Lily May Peel)</td>\n",
       "      <td>female</td>\n",
       "      <td>35.0</td>\n",
       "      <td>1</td>\n",
       "      <td>0</td>\n",
       "      <td>113803</td>\n",
       "      <td>53.1000</td>\n",
       "      <td>C123</td>\n",
       "      <td>S</td>\n",
       "    </tr>\n",
       "    <tr>\n",
       "      <th>4</th>\n",
       "      <td>5</td>\n",
       "      <td>0</td>\n",
       "      <td>3</td>\n",
       "      <td>Allen, Mr. William Henry</td>\n",
       "      <td>male</td>\n",
       "      <td>35.0</td>\n",
       "      <td>0</td>\n",
       "      <td>0</td>\n",
       "      <td>373450</td>\n",
       "      <td>8.0500</td>\n",
       "      <td>NaN</td>\n",
       "      <td>S</td>\n",
       "    </tr>\n",
       "    <tr>\n",
       "      <th>5</th>\n",
       "      <td>6</td>\n",
       "      <td>0</td>\n",
       "      <td>3</td>\n",
       "      <td>Moran, Mr. James</td>\n",
       "      <td>male</td>\n",
       "      <td>NaN</td>\n",
       "      <td>0</td>\n",
       "      <td>0</td>\n",
       "      <td>330877</td>\n",
       "      <td>8.4583</td>\n",
       "      <td>NaN</td>\n",
       "      <td>Q</td>\n",
       "    </tr>\n",
       "  </tbody>\n",
       "</table>\n",
       "</div>"
      ],
      "text/plain": [
       "   PassengerId  Survived  Pclass  \\\n",
       "0            1         0       3   \n",
       "1            2         1       1   \n",
       "2            3         1       3   \n",
       "3            4         1       1   \n",
       "4            5         0       3   \n",
       "5            6         0       3   \n",
       "\n",
       "                                                Name     Sex   Age  SibSp  \\\n",
       "0                            Braund, Mr. Owen Harris    male  22.0      1   \n",
       "1  Cumings, Mrs. John Bradley (Florence Briggs Th...  female  38.0      1   \n",
       "2                             Heikkinen, Miss. Laina  female  26.0      0   \n",
       "3       Futrelle, Mrs. Jacques Heath (Lily May Peel)  female  35.0      1   \n",
       "4                           Allen, Mr. William Henry    male  35.0      0   \n",
       "5                                   Moran, Mr. James    male   NaN      0   \n",
       "\n",
       "   Parch            Ticket     Fare Cabin Embarked  \n",
       "0      0         A/5 21171   7.2500   NaN        S  \n",
       "1      0          PC 17599  71.2833   C85        C  \n",
       "2      0  STON/O2. 3101282   7.9250   NaN        S  \n",
       "3      0            113803  53.1000  C123        S  \n",
       "4      0            373450   8.0500   NaN        S  \n",
       "5      0            330877   8.4583   NaN        Q  "
      ]
     },
     "execution_count": 5,
     "metadata": {},
     "output_type": "execute_result"
    }
   ],
   "source": [
    "train.head(n=6)"
   ]
  },
  {
   "cell_type": "markdown",
   "metadata": {
    "id": "qJKYMsXK2apb"
   },
   "source": [
    "#### VARIABLE DESCRIPTIONS:\n",
    "**Survived** - 0 = No; 1 = Yes  \n",
    "**Age** - Passenger's age  \n",
    "**Pclass** - Passenger Class (1 = 1st; 2 = 2nd; 3 = 3rd)  \n",
    "**SibSp** - Number of Siblings/Spouses Aboard  \n",
    "**Parch** - Number of Parents/Children Aboard  \n",
    "**Ticket** - Ticket Number  \n",
    "**Fare** - Passenger Fare  \n",
    "**Cabin** - Cabin ID  \n",
    "**Embarked** - Port of Embarkation (C = Cherbourg; Q = Queenstown; S = Southampton)  "
   ]
  },
  {
   "cell_type": "code",
   "execution_count": 6,
   "metadata": {
    "colab": {
     "base_uri": "https://localhost:8080/"
    },
    "executionInfo": {
     "elapsed": 364,
     "status": "ok",
     "timestamp": 1635354240776,
     "user": {
      "displayName": "אלון מור",
      "photoUrl": "https://lh3.googleusercontent.com/a/default-user=s64",
      "userId": "02239198260284772342"
     },
     "user_tz": -180
    },
    "id": "p4A1YqGrMfZx",
    "outputId": "cc1de3c8-4ba0-4c28-ebae-08fad14136e7"
   },
   "outputs": [
    {
     "data": {
      "text/plain": [
       "Index(['PassengerId', 'Survived', 'Pclass', 'Name', 'Sex', 'Age', 'SibSp',\n",
       "       'Parch', 'Ticket', 'Fare', 'Cabin', 'Embarked'],\n",
       "      dtype='object')"
      ]
     },
     "execution_count": 6,
     "metadata": {},
     "output_type": "execute_result"
    }
   ],
   "source": [
    "train.columns"
   ]
  },
  {
   "cell_type": "markdown",
   "metadata": {
    "id": "qDaTDRy12apb"
   },
   "source": [
    "## Understanding the data (Summarizations)"
   ]
  },
  {
   "cell_type": "code",
   "execution_count": 7,
   "metadata": {
    "colab": {
     "base_uri": "https://localhost:8080/"
    },
    "executionInfo": {
     "elapsed": 339,
     "status": "ok",
     "timestamp": 1635354305230,
     "user": {
      "displayName": "אלון מור",
      "photoUrl": "https://lh3.googleusercontent.com/a/default-user=s64",
      "userId": "02239198260284772342"
     },
     "user_tz": -180
    },
    "id": "JlgPYAvoTbzW",
    "outputId": "1678f7bc-df8f-41cf-e9bd-a47458a727f9"
   },
   "outputs": [
    {
     "name": "stdout",
     "output_type": "stream",
     "text": [
      "<class 'pandas.core.frame.DataFrame'>\n",
      "RangeIndex: 891 entries, 0 to 890\n",
      "Data columns (total 12 columns):\n",
      " #   Column       Non-Null Count  Dtype  \n",
      "---  ------       --------------  -----  \n",
      " 0   PassengerId  891 non-null    int64  \n",
      " 1   Survived     891 non-null    int64  \n",
      " 2   Pclass       891 non-null    int64  \n",
      " 3   Name         891 non-null    object \n",
      " 4   Sex          891 non-null    object \n",
      " 5   Age          714 non-null    float64\n",
      " 6   SibSp        891 non-null    int64  \n",
      " 7   Parch        891 non-null    int64  \n",
      " 8   Ticket       891 non-null    object \n",
      " 9   Fare         891 non-null    float64\n",
      " 10  Cabin        204 non-null    object \n",
      " 11  Embarked     889 non-null    object \n",
      "dtypes: float64(2), int64(5), object(5)\n",
      "memory usage: 83.7+ KB\n"
     ]
    }
   ],
   "source": [
    "train.info()"
   ]
  },
  {
   "cell_type": "code",
   "execution_count": 8,
   "metadata": {
    "colab": {
     "base_uri": "https://localhost:8080/"
    },
    "executionInfo": {
     "elapsed": 390,
     "status": "ok",
     "timestamp": 1635354410763,
     "user": {
      "displayName": "אלון מור",
      "photoUrl": "https://lh3.googleusercontent.com/a/default-user=s64",
      "userId": "02239198260284772342"
     },
     "user_tz": -180
    },
    "id": "NEN2DzRf2apc",
    "outputId": "e586ab30-972d-490a-d4fb-4f2070f7a09a"
   },
   "outputs": [
    {
     "data": {
      "text/plain": [
       "(891, 12)"
      ]
     },
     "execution_count": 8,
     "metadata": {},
     "output_type": "execute_result"
    }
   ],
   "source": [
    "train.shape"
   ]
  },
  {
   "cell_type": "code",
   "execution_count": 9,
   "metadata": {
    "colab": {
     "base_uri": "https://localhost:8080/"
    },
    "executionInfo": {
     "elapsed": 350,
     "status": "ok",
     "timestamp": 1635354432918,
     "user": {
      "displayName": "אלון מור",
      "photoUrl": "https://lh3.googleusercontent.com/a/default-user=s64",
      "userId": "02239198260284772342"
     },
     "user_tz": -180
    },
    "id": "QTtIgJx32aph",
    "outputId": "64d2144f-cd8d-4d13-c303-8b5de283b692"
   },
   "outputs": [
    {
     "data": {
      "text/plain": [
       "0    549\n",
       "1    342\n",
       "Name: Survived, dtype: int64"
      ]
     },
     "execution_count": 9,
     "metadata": {},
     "output_type": "execute_result"
    }
   ],
   "source": [
    "# Count values of 'Survived'\n",
    "train.Survived.value_counts()"
   ]
  },
  {
   "cell_type": "code",
   "execution_count": 10,
   "metadata": {
    "colab": {
     "base_uri": "https://localhost:8080/"
    },
    "executionInfo": {
     "elapsed": 362,
     "status": "ok",
     "timestamp": 1635354493053,
     "user": {
      "displayName": "אלון מור",
      "photoUrl": "https://lh3.googleusercontent.com/a/default-user=s64",
      "userId": "02239198260284772342"
     },
     "user_tz": -180
    },
    "id": "snOQKMYl2apk",
    "outputId": "d6d9b888-7e45-4c81-f47a-dca1991149e6"
   },
   "outputs": [
    {
     "data": {
      "text/plain": [
       "32.204207968574636"
      ]
     },
     "execution_count": 10,
     "metadata": {},
     "output_type": "execute_result"
    }
   ],
   "source": [
    "# Calculate the mean fare price\n",
    "train.Fare.mean()"
   ]
  },
  {
   "cell_type": "code",
   "execution_count": 11,
   "metadata": {
    "colab": {
     "base_uri": "https://localhost:8080/",
     "height": 297
    },
    "executionInfo": {
     "elapsed": 417,
     "status": "ok",
     "timestamp": 1635354497027,
     "user": {
      "displayName": "אלון מור",
      "photoUrl": "https://lh3.googleusercontent.com/a/default-user=s64",
      "userId": "02239198260284772342"
     },
     "user_tz": -180
    },
    "id": "IksYWK9X2apq",
    "outputId": "efcbd092-ac58-4c3c-bfde-9a50096c5cb0"
   },
   "outputs": [
    {
     "data": {
      "text/html": [
       "<div>\n",
       "<style scoped>\n",
       "    .dataframe tbody tr th:only-of-type {\n",
       "        vertical-align: middle;\n",
       "    }\n",
       "\n",
       "    .dataframe tbody tr th {\n",
       "        vertical-align: top;\n",
       "    }\n",
       "\n",
       "    .dataframe thead th {\n",
       "        text-align: right;\n",
       "    }\n",
       "</style>\n",
       "<table border=\"1\" class=\"dataframe\">\n",
       "  <thead>\n",
       "    <tr style=\"text-align: right;\">\n",
       "      <th></th>\n",
       "      <th>PassengerId</th>\n",
       "      <th>Survived</th>\n",
       "      <th>Pclass</th>\n",
       "      <th>Age</th>\n",
       "      <th>SibSp</th>\n",
       "      <th>Parch</th>\n",
       "      <th>Fare</th>\n",
       "    </tr>\n",
       "  </thead>\n",
       "  <tbody>\n",
       "    <tr>\n",
       "      <th>count</th>\n",
       "      <td>891.000000</td>\n",
       "      <td>891.000000</td>\n",
       "      <td>891.000000</td>\n",
       "      <td>714.000000</td>\n",
       "      <td>891.000000</td>\n",
       "      <td>891.000000</td>\n",
       "      <td>891.000000</td>\n",
       "    </tr>\n",
       "    <tr>\n",
       "      <th>mean</th>\n",
       "      <td>446.000000</td>\n",
       "      <td>0.383838</td>\n",
       "      <td>2.308642</td>\n",
       "      <td>29.699118</td>\n",
       "      <td>0.523008</td>\n",
       "      <td>0.381594</td>\n",
       "      <td>32.204208</td>\n",
       "    </tr>\n",
       "    <tr>\n",
       "      <th>std</th>\n",
       "      <td>257.353842</td>\n",
       "      <td>0.486592</td>\n",
       "      <td>0.836071</td>\n",
       "      <td>14.526497</td>\n",
       "      <td>1.102743</td>\n",
       "      <td>0.806057</td>\n",
       "      <td>49.693429</td>\n",
       "    </tr>\n",
       "    <tr>\n",
       "      <th>min</th>\n",
       "      <td>1.000000</td>\n",
       "      <td>0.000000</td>\n",
       "      <td>1.000000</td>\n",
       "      <td>0.420000</td>\n",
       "      <td>0.000000</td>\n",
       "      <td>0.000000</td>\n",
       "      <td>0.000000</td>\n",
       "    </tr>\n",
       "    <tr>\n",
       "      <th>25%</th>\n",
       "      <td>223.500000</td>\n",
       "      <td>0.000000</td>\n",
       "      <td>2.000000</td>\n",
       "      <td>20.125000</td>\n",
       "      <td>0.000000</td>\n",
       "      <td>0.000000</td>\n",
       "      <td>7.910400</td>\n",
       "    </tr>\n",
       "    <tr>\n",
       "      <th>50%</th>\n",
       "      <td>446.000000</td>\n",
       "      <td>0.000000</td>\n",
       "      <td>3.000000</td>\n",
       "      <td>28.000000</td>\n",
       "      <td>0.000000</td>\n",
       "      <td>0.000000</td>\n",
       "      <td>14.454200</td>\n",
       "    </tr>\n",
       "    <tr>\n",
       "      <th>75%</th>\n",
       "      <td>668.500000</td>\n",
       "      <td>1.000000</td>\n",
       "      <td>3.000000</td>\n",
       "      <td>38.000000</td>\n",
       "      <td>1.000000</td>\n",
       "      <td>0.000000</td>\n",
       "      <td>31.000000</td>\n",
       "    </tr>\n",
       "    <tr>\n",
       "      <th>max</th>\n",
       "      <td>891.000000</td>\n",
       "      <td>1.000000</td>\n",
       "      <td>3.000000</td>\n",
       "      <td>80.000000</td>\n",
       "      <td>8.000000</td>\n",
       "      <td>6.000000</td>\n",
       "      <td>512.329200</td>\n",
       "    </tr>\n",
       "  </tbody>\n",
       "</table>\n",
       "</div>"
      ],
      "text/plain": [
       "       PassengerId    Survived      Pclass         Age       SibSp  \\\n",
       "count   891.000000  891.000000  891.000000  714.000000  891.000000   \n",
       "mean    446.000000    0.383838    2.308642   29.699118    0.523008   \n",
       "std     257.353842    0.486592    0.836071   14.526497    1.102743   \n",
       "min       1.000000    0.000000    1.000000    0.420000    0.000000   \n",
       "25%     223.500000    0.000000    2.000000   20.125000    0.000000   \n",
       "50%     446.000000    0.000000    3.000000   28.000000    0.000000   \n",
       "75%     668.500000    1.000000    3.000000   38.000000    1.000000   \n",
       "max     891.000000    1.000000    3.000000   80.000000    8.000000   \n",
       "\n",
       "            Parch        Fare  \n",
       "count  891.000000  891.000000  \n",
       "mean     0.381594   32.204208  \n",
       "std      0.806057   49.693429  \n",
       "min      0.000000    0.000000  \n",
       "25%      0.000000    7.910400  \n",
       "50%      0.000000   14.454200  \n",
       "75%      0.000000   31.000000  \n",
       "max      6.000000  512.329200  "
      ]
     },
     "execution_count": 11,
     "metadata": {},
     "output_type": "execute_result"
    }
   ],
   "source": [
    "# General statistics of the dataframe\n",
    "train.describe()"
   ]
  },
  {
   "cell_type": "markdown",
   "metadata": {
    "id": "I6-oHvuz2apv"
   },
   "source": [
    "### Selection examples\n",
    "\n",
    "#### Selecting columns"
   ]
  },
  {
   "cell_type": "code",
   "execution_count": 12,
   "metadata": {
    "colab": {
     "base_uri": "https://localhost:8080/",
     "height": 204
    },
    "executionInfo": {
     "elapsed": 409,
     "status": "ok",
     "timestamp": 1635354511335,
     "user": {
      "displayName": "אלון מור",
      "photoUrl": "https://lh3.googleusercontent.com/a/default-user=s64",
      "userId": "02239198260284772342"
     },
     "user_tz": -180
    },
    "id": "3uY4Z3D92apv",
    "outputId": "7f052e66-ff1f-44e2-d6aa-82d526580ab6"
   },
   "outputs": [
    {
     "data": {
      "text/html": [
       "<div>\n",
       "<style scoped>\n",
       "    .dataframe tbody tr th:only-of-type {\n",
       "        vertical-align: middle;\n",
       "    }\n",
       "\n",
       "    .dataframe tbody tr th {\n",
       "        vertical-align: top;\n",
       "    }\n",
       "\n",
       "    .dataframe thead th {\n",
       "        text-align: right;\n",
       "    }\n",
       "</style>\n",
       "<table border=\"1\" class=\"dataframe\">\n",
       "  <thead>\n",
       "    <tr style=\"text-align: right;\">\n",
       "      <th></th>\n",
       "      <th>Name</th>\n",
       "      <th>Sex</th>\n",
       "      <th>Age</th>\n",
       "      <th>Survived</th>\n",
       "    </tr>\n",
       "  </thead>\n",
       "  <tbody>\n",
       "    <tr>\n",
       "      <th>0</th>\n",
       "      <td>Braund, Mr. Owen Harris</td>\n",
       "      <td>male</td>\n",
       "      <td>22.0</td>\n",
       "      <td>0</td>\n",
       "    </tr>\n",
       "    <tr>\n",
       "      <th>1</th>\n",
       "      <td>Cumings, Mrs. John Bradley (Florence Briggs Th...</td>\n",
       "      <td>female</td>\n",
       "      <td>38.0</td>\n",
       "      <td>1</td>\n",
       "    </tr>\n",
       "    <tr>\n",
       "      <th>2</th>\n",
       "      <td>Heikkinen, Miss. Laina</td>\n",
       "      <td>female</td>\n",
       "      <td>26.0</td>\n",
       "      <td>1</td>\n",
       "    </tr>\n",
       "    <tr>\n",
       "      <th>3</th>\n",
       "      <td>Futrelle, Mrs. Jacques Heath (Lily May Peel)</td>\n",
       "      <td>female</td>\n",
       "      <td>35.0</td>\n",
       "      <td>1</td>\n",
       "    </tr>\n",
       "    <tr>\n",
       "      <th>4</th>\n",
       "      <td>Allen, Mr. William Henry</td>\n",
       "      <td>male</td>\n",
       "      <td>35.0</td>\n",
       "      <td>0</td>\n",
       "    </tr>\n",
       "  </tbody>\n",
       "</table>\n",
       "</div>"
      ],
      "text/plain": [
       "                                                Name     Sex   Age  Survived\n",
       "0                            Braund, Mr. Owen Harris    male  22.0         0\n",
       "1  Cumings, Mrs. John Bradley (Florence Briggs Th...  female  38.0         1\n",
       "2                             Heikkinen, Miss. Laina  female  26.0         1\n",
       "3       Futrelle, Mrs. Jacques Heath (Lily May Peel)  female  35.0         1\n",
       "4                           Allen, Mr. William Henry    male  35.0         0"
      ]
     },
     "execution_count": 12,
     "metadata": {},
     "output_type": "execute_result"
    }
   ],
   "source": [
    "# Selection is very similar to standard Python selection\n",
    "df1 = train[[\"Name\", \"Sex\", \"Age\", \"Survived\"]]\n",
    "df1.head()"
   ]
  },
  {
   "cell_type": "markdown",
   "metadata": {
    "id": "b4EyHvFXLjFT"
   },
   "source": [
    "#### Selecting rows"
   ]
  },
  {
   "cell_type": "code",
   "execution_count": 13,
   "metadata": {
    "colab": {
     "base_uri": "https://localhost:8080/",
     "height": 204
    },
    "executionInfo": {
     "elapsed": 542,
     "status": "ok",
     "timestamp": 1635354572375,
     "user": {
      "displayName": "אלון מור",
      "photoUrl": "https://lh3.googleusercontent.com/a/default-user=s64",
      "userId": "02239198260284772342"
     },
     "user_tz": -180
    },
    "id": "xGY0BqS72ap0",
    "outputId": "7843f71c-4dd3-4913-bc1f-d034179f2419"
   },
   "outputs": [
    {
     "data": {
      "text/html": [
       "<div>\n",
       "<style scoped>\n",
       "    .dataframe tbody tr th:only-of-type {\n",
       "        vertical-align: middle;\n",
       "    }\n",
       "\n",
       "    .dataframe tbody tr th {\n",
       "        vertical-align: top;\n",
       "    }\n",
       "\n",
       "    .dataframe thead th {\n",
       "        text-align: right;\n",
       "    }\n",
       "</style>\n",
       "<table border=\"1\" class=\"dataframe\">\n",
       "  <thead>\n",
       "    <tr style=\"text-align: right;\">\n",
       "      <th></th>\n",
       "      <th>Name</th>\n",
       "      <th>Sex</th>\n",
       "      <th>Age</th>\n",
       "      <th>Survived</th>\n",
       "    </tr>\n",
       "  </thead>\n",
       "  <tbody>\n",
       "    <tr>\n",
       "      <th>10</th>\n",
       "      <td>Sandstrom, Miss. Marguerite Rut</td>\n",
       "      <td>female</td>\n",
       "      <td>4.0</td>\n",
       "      <td>1</td>\n",
       "    </tr>\n",
       "    <tr>\n",
       "      <th>11</th>\n",
       "      <td>Bonnell, Miss. Elizabeth</td>\n",
       "      <td>female</td>\n",
       "      <td>58.0</td>\n",
       "      <td>1</td>\n",
       "    </tr>\n",
       "    <tr>\n",
       "      <th>12</th>\n",
       "      <td>Saundercock, Mr. William Henry</td>\n",
       "      <td>male</td>\n",
       "      <td>20.0</td>\n",
       "      <td>0</td>\n",
       "    </tr>\n",
       "    <tr>\n",
       "      <th>13</th>\n",
       "      <td>Andersson, Mr. Anders Johan</td>\n",
       "      <td>male</td>\n",
       "      <td>39.0</td>\n",
       "      <td>0</td>\n",
       "    </tr>\n",
       "    <tr>\n",
       "      <th>14</th>\n",
       "      <td>Vestrom, Miss. Hulda Amanda Adolfina</td>\n",
       "      <td>female</td>\n",
       "      <td>14.0</td>\n",
       "      <td>0</td>\n",
       "    </tr>\n",
       "  </tbody>\n",
       "</table>\n",
       "</div>"
      ],
      "text/plain": [
       "                                    Name     Sex   Age  Survived\n",
       "10       Sandstrom, Miss. Marguerite Rut  female   4.0         1\n",
       "11              Bonnell, Miss. Elizabeth  female  58.0         1\n",
       "12        Saundercock, Mr. William Henry    male  20.0         0\n",
       "13           Andersson, Mr. Anders Johan    male  39.0         0\n",
       "14  Vestrom, Miss. Hulda Amanda Adolfina  female  14.0         0"
      ]
     },
     "execution_count": 13,
     "metadata": {},
     "output_type": "execute_result"
    }
   ],
   "source": [
    "df1[10:15]"
   ]
  },
  {
   "cell_type": "markdown",
   "metadata": {
    "id": "hDGOpl252ap7"
   },
   "source": [
    "### Filtering Examples"
   ]
  },
  {
   "cell_type": "markdown",
   "metadata": {
    "id": "kJMt5yUxWY79"
   },
   "source": [
    "#### Filtering with one condition"
   ]
  },
  {
   "cell_type": "code",
   "execution_count": 14,
   "metadata": {
    "colab": {
     "base_uri": "https://localhost:8080/"
    },
    "executionInfo": {
     "elapsed": 353,
     "status": "ok",
     "timestamp": 1635354632552,
     "user": {
      "displayName": "אלון מור",
      "photoUrl": "https://lh3.googleusercontent.com/a/default-user=s64",
      "userId": "02239198260284772342"
     },
     "user_tz": -180
    },
    "id": "ozFXXNB_2ap9",
    "outputId": "8f50ffcc-df90-47dc-eabd-62c31ef334f6"
   },
   "outputs": [
    {
     "data": {
      "text/plain": [
       "0      False\n",
       "1       True\n",
       "2       True\n",
       "3       True\n",
       "4      False\n",
       "       ...  \n",
       "886    False\n",
       "887     True\n",
       "888     True\n",
       "889    False\n",
       "890    False\n",
       "Name: Sex, Length: 891, dtype: bool"
      ]
     },
     "execution_count": 14,
     "metadata": {},
     "output_type": "execute_result"
    }
   ],
   "source": [
    "# Filtering allows you to create masks given some conditions\n",
    "df1.Sex == 'female' "
   ]
  },
  {
   "cell_type": "code",
   "execution_count": 15,
   "metadata": {
    "colab": {
     "base_uri": "https://localhost:8080/",
     "height": 204
    },
    "executionInfo": {
     "elapsed": 367,
     "status": "ok",
     "timestamp": 1635354671632,
     "user": {
      "displayName": "אלון מור",
      "photoUrl": "https://lh3.googleusercontent.com/a/default-user=s64",
      "userId": "02239198260284772342"
     },
     "user_tz": -180
    },
    "id": "xfny3baQVPOt",
    "outputId": "9c877c36-89b9-4960-a04b-f1db5e611f9e"
   },
   "outputs": [
    {
     "data": {
      "text/html": [
       "<div>\n",
       "<style scoped>\n",
       "    .dataframe tbody tr th:only-of-type {\n",
       "        vertical-align: middle;\n",
       "    }\n",
       "\n",
       "    .dataframe tbody tr th {\n",
       "        vertical-align: top;\n",
       "    }\n",
       "\n",
       "    .dataframe thead th {\n",
       "        text-align: right;\n",
       "    }\n",
       "</style>\n",
       "<table border=\"1\" class=\"dataframe\">\n",
       "  <thead>\n",
       "    <tr style=\"text-align: right;\">\n",
       "      <th></th>\n",
       "      <th>Name</th>\n",
       "      <th>Sex</th>\n",
       "      <th>Age</th>\n",
       "      <th>Survived</th>\n",
       "    </tr>\n",
       "  </thead>\n",
       "  <tbody>\n",
       "    <tr>\n",
       "      <th>1</th>\n",
       "      <td>Cumings, Mrs. John Bradley (Florence Briggs Th...</td>\n",
       "      <td>female</td>\n",
       "      <td>38.0</td>\n",
       "      <td>1</td>\n",
       "    </tr>\n",
       "    <tr>\n",
       "      <th>2</th>\n",
       "      <td>Heikkinen, Miss. Laina</td>\n",
       "      <td>female</td>\n",
       "      <td>26.0</td>\n",
       "      <td>1</td>\n",
       "    </tr>\n",
       "    <tr>\n",
       "      <th>3</th>\n",
       "      <td>Futrelle, Mrs. Jacques Heath (Lily May Peel)</td>\n",
       "      <td>female</td>\n",
       "      <td>35.0</td>\n",
       "      <td>1</td>\n",
       "    </tr>\n",
       "    <tr>\n",
       "      <th>8</th>\n",
       "      <td>Johnson, Mrs. Oscar W (Elisabeth Vilhelmina Berg)</td>\n",
       "      <td>female</td>\n",
       "      <td>27.0</td>\n",
       "      <td>1</td>\n",
       "    </tr>\n",
       "    <tr>\n",
       "      <th>9</th>\n",
       "      <td>Nasser, Mrs. Nicholas (Adele Achem)</td>\n",
       "      <td>female</td>\n",
       "      <td>14.0</td>\n",
       "      <td>1</td>\n",
       "    </tr>\n",
       "  </tbody>\n",
       "</table>\n",
       "</div>"
      ],
      "text/plain": [
       "                                                Name     Sex   Age  Survived\n",
       "1  Cumings, Mrs. John Bradley (Florence Briggs Th...  female  38.0         1\n",
       "2                             Heikkinen, Miss. Laina  female  26.0         1\n",
       "3       Futrelle, Mrs. Jacques Heath (Lily May Peel)  female  35.0         1\n",
       "8  Johnson, Mrs. Oscar W (Elisabeth Vilhelmina Berg)  female  27.0         1\n",
       "9                Nasser, Mrs. Nicholas (Adele Achem)  female  14.0         1"
      ]
     },
     "execution_count": 15,
     "metadata": {},
     "output_type": "execute_result"
    }
   ],
   "source": [
    "onlyFemale = df1[df1.Sex == 'female']\n",
    "onlyFemale.head()"
   ]
  },
  {
   "cell_type": "markdown",
   "metadata": {
    "id": "Y0KwaVncWdjI"
   },
   "source": [
    "#### Filtering with multiple conditions\n",
    "**(T2)** Alter the following command so `adultMales` will contain only males whose age is 18 and above.  \n",
    "You need to filter using a **single** mask with multiple conditions (google it!), i.e., without creating any temporary dataframes.\n",
    "\n",
    "Additionally, update the `survivalRate` variable to show the correct rate."
   ]
  },
  {
   "cell_type": "code",
   "execution_count": 16,
   "metadata": {
    "colab": {
     "base_uri": "https://localhost:8080/"
    },
    "executionInfo": {
     "elapsed": 491,
     "status": "ok",
     "timestamp": 1635355110409,
     "user": {
      "displayName": "אלון מור",
      "photoUrl": "https://lh3.googleusercontent.com/a/default-user=s64",
      "userId": "02239198260284772342"
     },
     "user_tz": -180
    },
    "id": "3hutR85R2aqC",
    "outputId": "a8e2b606-e5ad-47a8-dcbf-f1e9e5f19e89"
   },
   "outputs": [
    {
     "name": "stdout",
     "output_type": "stream",
     "text": [
      "The survival rate of adult males was: 17.72%\n"
     ]
    }
   ],
   "source": [
    "# TODO: update the mask\n",
    "adultMales = df1[(df1.Sex == 'male') & (df1.Age>=18)]\n",
    "\n",
    "# TODO: Update the survival rate\n",
    "survivalRate = adultMales.Survived.mean()\n",
    "print(\"The survival rate of adult males was: {:.2f}%\".format(survivalRate * 100))"
   ]
  },
  {
   "cell_type": "markdown",
   "metadata": {
    "id": "udZZT8Fo2aqN"
   },
   "source": [
    "## Aggregating\n",
    "Pandas allows you to aggregate and display different views of your data."
   ]
  },
  {
   "cell_type": "code",
   "execution_count": 17,
   "metadata": {
    "colab": {
     "base_uri": "https://localhost:8080/"
    },
    "executionInfo": {
     "elapsed": 341,
     "status": "ok",
     "timestamp": 1635355131614,
     "user": {
      "displayName": "אלון מור",
      "photoUrl": "https://lh3.googleusercontent.com/a/default-user=s64",
      "userId": "02239198260284772342"
     },
     "user_tz": -180
    },
    "id": "_osF_D4n2aqO",
    "outputId": "12401450-906a-4233-f52f-d5279dae1331"
   },
   "outputs": [
    {
     "data": {
      "text/plain": [
       "Pclass  Sex   \n",
       "1       female    106.125798\n",
       "        male       67.226127\n",
       "2       female     21.970121\n",
       "        male       19.741782\n",
       "3       female     16.118810\n",
       "        male       12.661633\n",
       "Name: Fare, dtype: float64"
      ]
     },
     "execution_count": 17,
     "metadata": {},
     "output_type": "execute_result"
    }
   ],
   "source": [
    "df2 = train.groupby(['Pclass', 'Sex']).Fare.agg(np.mean)\n",
    "df2"
   ]
  },
  {
   "cell_type": "code",
   "execution_count": 18,
   "metadata": {
    "colab": {
     "base_uri": "https://localhost:8080/",
     "height": 173
    },
    "executionInfo": {
     "elapsed": 371,
     "status": "ok",
     "timestamp": 1635355207356,
     "user": {
      "displayName": "אלון מור",
      "photoUrl": "https://lh3.googleusercontent.com/a/default-user=s64",
      "userId": "02239198260284772342"
     },
     "user_tz": -180
    },
    "id": "KiS5Cjm-2aqR",
    "outputId": "29d3bf69-5339-4ed9-a746-d367104c6c15"
   },
   "outputs": [
    {
     "data": {
      "text/html": [
       "<div>\n",
       "<style scoped>\n",
       "    .dataframe tbody tr th:only-of-type {\n",
       "        vertical-align: middle;\n",
       "    }\n",
       "\n",
       "    .dataframe tbody tr th {\n",
       "        vertical-align: top;\n",
       "    }\n",
       "\n",
       "    .dataframe thead th {\n",
       "        text-align: right;\n",
       "    }\n",
       "</style>\n",
       "<table border=\"1\" class=\"dataframe\">\n",
       "  <thead>\n",
       "    <tr style=\"text-align: right;\">\n",
       "      <th></th>\n",
       "      <th>Survived</th>\n",
       "    </tr>\n",
       "    <tr>\n",
       "      <th>Pclass</th>\n",
       "      <th></th>\n",
       "    </tr>\n",
       "  </thead>\n",
       "  <tbody>\n",
       "    <tr>\n",
       "      <th>1</th>\n",
       "      <td>216</td>\n",
       "    </tr>\n",
       "    <tr>\n",
       "      <th>2</th>\n",
       "      <td>184</td>\n",
       "    </tr>\n",
       "    <tr>\n",
       "      <th>3</th>\n",
       "      <td>491</td>\n",
       "    </tr>\n",
       "  </tbody>\n",
       "</table>\n",
       "</div>"
      ],
      "text/plain": [
       "        Survived\n",
       "Pclass          \n",
       "1            216\n",
       "2            184\n",
       "3            491"
      ]
     },
     "execution_count": 18,
     "metadata": {},
     "output_type": "execute_result"
    }
   ],
   "source": [
    "pd.pivot_table(train, index=['Pclass'], values=['Survived'], aggfunc='count')"
   ]
  },
  {
   "cell_type": "markdown",
   "metadata": {
    "id": "6WNTC_WwHYQ0"
   },
   "source": [
    "The following table shows the survival rates for each combination of passenger class and sex.  \n",
    "**(T3)** Add a column showing the mean **age** for such a combination."
   ]
  },
  {
   "cell_type": "code",
   "execution_count": 19,
   "metadata": {
    "colab": {
     "base_uri": "https://localhost:8080/",
     "height": 266
    },
    "executionInfo": {
     "elapsed": 385,
     "status": "ok",
     "timestamp": 1635355463213,
     "user": {
      "displayName": "אלון מור",
      "photoUrl": "https://lh3.googleusercontent.com/a/default-user=s64",
      "userId": "02239198260284772342"
     },
     "user_tz": -180
    },
    "id": "GlukQGgs2aqU",
    "outputId": "b5ac150b-ae51-4974-82ef-b5fbfe3ca1c6"
   },
   "outputs": [
    {
     "data": {
      "text/html": [
       "<div>\n",
       "<style scoped>\n",
       "    .dataframe tbody tr th:only-of-type {\n",
       "        vertical-align: middle;\n",
       "    }\n",
       "\n",
       "    .dataframe tbody tr th {\n",
       "        vertical-align: top;\n",
       "    }\n",
       "\n",
       "    .dataframe thead th {\n",
       "        text-align: right;\n",
       "    }\n",
       "</style>\n",
       "<table border=\"1\" class=\"dataframe\">\n",
       "  <thead>\n",
       "    <tr style=\"text-align: right;\">\n",
       "      <th></th>\n",
       "      <th></th>\n",
       "      <th>Age</th>\n",
       "      <th>Survived</th>\n",
       "    </tr>\n",
       "    <tr>\n",
       "      <th>Pclass</th>\n",
       "      <th>Sex</th>\n",
       "      <th></th>\n",
       "      <th></th>\n",
       "    </tr>\n",
       "  </thead>\n",
       "  <tbody>\n",
       "    <tr>\n",
       "      <th rowspan=\"2\" valign=\"top\">1</th>\n",
       "      <th>female</th>\n",
       "      <td>34.611765</td>\n",
       "      <td>0.968085</td>\n",
       "    </tr>\n",
       "    <tr>\n",
       "      <th>male</th>\n",
       "      <td>41.281386</td>\n",
       "      <td>0.368852</td>\n",
       "    </tr>\n",
       "    <tr>\n",
       "      <th rowspan=\"2\" valign=\"top\">2</th>\n",
       "      <th>female</th>\n",
       "      <td>28.722973</td>\n",
       "      <td>0.921053</td>\n",
       "    </tr>\n",
       "    <tr>\n",
       "      <th>male</th>\n",
       "      <td>30.740707</td>\n",
       "      <td>0.157407</td>\n",
       "    </tr>\n",
       "    <tr>\n",
       "      <th rowspan=\"2\" valign=\"top\">3</th>\n",
       "      <th>female</th>\n",
       "      <td>21.750000</td>\n",
       "      <td>0.500000</td>\n",
       "    </tr>\n",
       "    <tr>\n",
       "      <th>male</th>\n",
       "      <td>26.507589</td>\n",
       "      <td>0.135447</td>\n",
       "    </tr>\n",
       "  </tbody>\n",
       "</table>\n",
       "</div>"
      ],
      "text/plain": [
       "                     Age  Survived\n",
       "Pclass Sex                        \n",
       "1      female  34.611765  0.968085\n",
       "       male    41.281386  0.368852\n",
       "2      female  28.722973  0.921053\n",
       "       male    30.740707  0.157407\n",
       "3      female  21.750000  0.500000\n",
       "       male    26.507589  0.135447"
      ]
     },
     "execution_count": 19,
     "metadata": {},
     "output_type": "execute_result"
    }
   ],
   "source": [
    "# TODO: Also show the mean age per group\n",
    "pd.pivot_table(train, index=[\"Pclass\", \"Sex\"], values=[\"Survived\", \"Age\"], aggfunc=\"mean\")"
   ]
  },
  {
   "cell_type": "markdown",
   "metadata": {
    "id": "GQa2WGIPQ5JC"
   },
   "source": [
    "**(T4)** Use [this](https://stackoverflow.com/questions/21441259/pandas-groupby-range-of-values) question on stackoverflow, to find the mean survival rate for ages 0-5, 5-10, 10-15, etc.)."
   ]
  },
  {
   "cell_type": "code",
   "execution_count": 20,
   "metadata": {
    "executionInfo": {
     "elapsed": 390,
     "status": "ok",
     "timestamp": 1635356824882,
     "user": {
      "displayName": "אלון מור",
      "photoUrl": "https://lh3.googleusercontent.com/a/default-user=s64",
      "userId": "02239198260284772342"
     },
     "user_tz": -180
    },
    "id": "yVq3VqPH2arc"
   },
   "outputs": [],
   "source": [
    "ageGroups = np.arange(0, 80, 5)\n",
    "survivalPerAgeGroup = train.groupby(pd.cut(train[\"Age\"], ageGroups)).Survived.mean().reset_index()"
   ]
  },
  {
   "cell_type": "code",
   "execution_count": 21,
   "metadata": {
    "colab": {
     "base_uri": "https://localhost:8080/"
    },
    "executionInfo": {
     "elapsed": 349,
     "status": "ok",
     "timestamp": 1635356827854,
     "user": {
      "displayName": "אלון מור",
      "photoUrl": "https://lh3.googleusercontent.com/a/default-user=s64",
      "userId": "02239198260284772342"
     },
     "user_tz": -180
    },
    "id": "cOjdpKzOv1zd",
    "outputId": "d815db18-a144-4363-e810-ec0aa4349d00"
   },
   "outputs": [
    {
     "data": {
      "text/html": [
       "<div>\n",
       "<style scoped>\n",
       "    .dataframe tbody tr th:only-of-type {\n",
       "        vertical-align: middle;\n",
       "    }\n",
       "\n",
       "    .dataframe tbody tr th {\n",
       "        vertical-align: top;\n",
       "    }\n",
       "\n",
       "    .dataframe thead th {\n",
       "        text-align: right;\n",
       "    }\n",
       "</style>\n",
       "<table border=\"1\" class=\"dataframe\">\n",
       "  <thead>\n",
       "    <tr style=\"text-align: right;\">\n",
       "      <th></th>\n",
       "      <th>Age</th>\n",
       "      <th>Survived</th>\n",
       "    </tr>\n",
       "  </thead>\n",
       "  <tbody>\n",
       "    <tr>\n",
       "      <th>0</th>\n",
       "      <td>(0, 5]</td>\n",
       "      <td>0.704545</td>\n",
       "    </tr>\n",
       "    <tr>\n",
       "      <th>1</th>\n",
       "      <td>(5, 10]</td>\n",
       "      <td>0.350000</td>\n",
       "    </tr>\n",
       "    <tr>\n",
       "      <th>2</th>\n",
       "      <td>(10, 15]</td>\n",
       "      <td>0.578947</td>\n",
       "    </tr>\n",
       "    <tr>\n",
       "      <th>3</th>\n",
       "      <td>(15, 20]</td>\n",
       "      <td>0.343750</td>\n",
       "    </tr>\n",
       "    <tr>\n",
       "      <th>4</th>\n",
       "      <td>(20, 25]</td>\n",
       "      <td>0.344262</td>\n",
       "    </tr>\n",
       "    <tr>\n",
       "      <th>5</th>\n",
       "      <td>(25, 30]</td>\n",
       "      <td>0.388889</td>\n",
       "    </tr>\n",
       "    <tr>\n",
       "      <th>6</th>\n",
       "      <td>(30, 35]</td>\n",
       "      <td>0.465909</td>\n",
       "    </tr>\n",
       "    <tr>\n",
       "      <th>7</th>\n",
       "      <td>(35, 40]</td>\n",
       "      <td>0.417910</td>\n",
       "    </tr>\n",
       "    <tr>\n",
       "      <th>8</th>\n",
       "      <td>(40, 45]</td>\n",
       "      <td>0.361702</td>\n",
       "    </tr>\n",
       "    <tr>\n",
       "      <th>9</th>\n",
       "      <td>(45, 50]</td>\n",
       "      <td>0.410256</td>\n",
       "    </tr>\n",
       "    <tr>\n",
       "      <th>10</th>\n",
       "      <td>(50, 55]</td>\n",
       "      <td>0.416667</td>\n",
       "    </tr>\n",
       "    <tr>\n",
       "      <th>11</th>\n",
       "      <td>(55, 60]</td>\n",
       "      <td>0.388889</td>\n",
       "    </tr>\n",
       "    <tr>\n",
       "      <th>12</th>\n",
       "      <td>(60, 65]</td>\n",
       "      <td>0.285714</td>\n",
       "    </tr>\n",
       "    <tr>\n",
       "      <th>13</th>\n",
       "      <td>(65, 70]</td>\n",
       "      <td>0.000000</td>\n",
       "    </tr>\n",
       "    <tr>\n",
       "      <th>14</th>\n",
       "      <td>(70, 75]</td>\n",
       "      <td>0.000000</td>\n",
       "    </tr>\n",
       "  </tbody>\n",
       "</table>\n",
       "</div>"
      ],
      "text/plain": [
       "         Age  Survived\n",
       "0     (0, 5]  0.704545\n",
       "1    (5, 10]  0.350000\n",
       "2   (10, 15]  0.578947\n",
       "3   (15, 20]  0.343750\n",
       "4   (20, 25]  0.344262\n",
       "5   (25, 30]  0.388889\n",
       "6   (30, 35]  0.465909\n",
       "7   (35, 40]  0.417910\n",
       "8   (40, 45]  0.361702\n",
       "9   (45, 50]  0.410256\n",
       "10  (50, 55]  0.416667\n",
       "11  (55, 60]  0.388889\n",
       "12  (60, 65]  0.285714\n",
       "13  (65, 70]  0.000000\n",
       "14  (70, 75]  0.000000"
      ]
     },
     "execution_count": 21,
     "metadata": {},
     "output_type": "execute_result"
    }
   ],
   "source": [
    "survivalPerAgeGroup"
   ]
  },
  {
   "cell_type": "markdown",
   "metadata": {
    "id": "2RGfdp3kI6FW"
   },
   "source": [
    "## Filling missing data (data imputation)\n",
    "\n",
    "Note that some passenger do not have age data."
   ]
  },
  {
   "cell_type": "code",
   "execution_count": 22,
   "metadata": {
    "colab": {
     "base_uri": "https://localhost:8080/"
    },
    "executionInfo": {
     "elapsed": 371,
     "status": "ok",
     "timestamp": 1635356747878,
     "user": {
      "displayName": "אלון מור",
      "photoUrl": "https://lh3.googleusercontent.com/a/default-user=s64",
      "userId": "02239198260284772342"
     },
     "user_tz": -180
    },
    "id": "_xMMyKw0J5WD",
    "outputId": "e2bafa76-be2e-4b3f-f16e-2c8fbe22d7ee"
   },
   "outputs": [
    {
     "name": "stdout",
     "output_type": "stream",
     "text": [
      "177 out of 891 passengers do not have a recorded age\n"
     ]
    }
   ],
   "source": [
    "print(\"{} out of {} passengers do not have a recorded age\".format(df1[df1.Age.isna()].shape[0], df1.shape[0]))"
   ]
  },
  {
   "cell_type": "code",
   "execution_count": 23,
   "metadata": {
    "colab": {
     "base_uri": "https://localhost:8080/",
     "height": 204
    },
    "executionInfo": {
     "elapsed": 560,
     "status": "ok",
     "timestamp": 1635356769613,
     "user": {
      "displayName": "אלון מור",
      "photoUrl": "https://lh3.googleusercontent.com/a/default-user=s64",
      "userId": "02239198260284772342"
     },
     "user_tz": -180
    },
    "id": "0kHH8y-KI5Mj",
    "outputId": "610bd6c5-ee62-4651-9888-4f04f55c5c9d"
   },
   "outputs": [
    {
     "data": {
      "text/html": [
       "<div>\n",
       "<style scoped>\n",
       "    .dataframe tbody tr th:only-of-type {\n",
       "        vertical-align: middle;\n",
       "    }\n",
       "\n",
       "    .dataframe tbody tr th {\n",
       "        vertical-align: top;\n",
       "    }\n",
       "\n",
       "    .dataframe thead th {\n",
       "        text-align: right;\n",
       "    }\n",
       "</style>\n",
       "<table border=\"1\" class=\"dataframe\">\n",
       "  <thead>\n",
       "    <tr style=\"text-align: right;\">\n",
       "      <th></th>\n",
       "      <th>Name</th>\n",
       "      <th>Sex</th>\n",
       "      <th>Age</th>\n",
       "      <th>Survived</th>\n",
       "    </tr>\n",
       "  </thead>\n",
       "  <tbody>\n",
       "    <tr>\n",
       "      <th>5</th>\n",
       "      <td>Moran, Mr. James</td>\n",
       "      <td>male</td>\n",
       "      <td>NaN</td>\n",
       "      <td>0</td>\n",
       "    </tr>\n",
       "    <tr>\n",
       "      <th>17</th>\n",
       "      <td>Williams, Mr. Charles Eugene</td>\n",
       "      <td>male</td>\n",
       "      <td>NaN</td>\n",
       "      <td>1</td>\n",
       "    </tr>\n",
       "    <tr>\n",
       "      <th>19</th>\n",
       "      <td>Masselmani, Mrs. Fatima</td>\n",
       "      <td>female</td>\n",
       "      <td>NaN</td>\n",
       "      <td>1</td>\n",
       "    </tr>\n",
       "    <tr>\n",
       "      <th>26</th>\n",
       "      <td>Emir, Mr. Farred Chehab</td>\n",
       "      <td>male</td>\n",
       "      <td>NaN</td>\n",
       "      <td>0</td>\n",
       "    </tr>\n",
       "    <tr>\n",
       "      <th>28</th>\n",
       "      <td>O'Dwyer, Miss. Ellen \"Nellie\"</td>\n",
       "      <td>female</td>\n",
       "      <td>NaN</td>\n",
       "      <td>1</td>\n",
       "    </tr>\n",
       "  </tbody>\n",
       "</table>\n",
       "</div>"
      ],
      "text/plain": [
       "                             Name     Sex  Age  Survived\n",
       "5                Moran, Mr. James    male  NaN         0\n",
       "17   Williams, Mr. Charles Eugene    male  NaN         1\n",
       "19        Masselmani, Mrs. Fatima  female  NaN         1\n",
       "26        Emir, Mr. Farred Chehab    male  NaN         0\n",
       "28  O'Dwyer, Miss. Ellen \"Nellie\"  female  NaN         1"
      ]
     },
     "execution_count": 23,
     "metadata": {},
     "output_type": "execute_result"
    }
   ],
   "source": [
    "df1[df1.Age.isna()].head()"
   ]
  },
  {
   "cell_type": "markdown",
   "metadata": {
    "id": "iBtPxzIYaqfj"
   },
   "source": [
    "Let's see the statistics of the column **before** the imputation."
   ]
  },
  {
   "cell_type": "code",
   "execution_count": 24,
   "metadata": {
    "colab": {
     "base_uri": "https://localhost:8080/"
    },
    "executionInfo": {
     "elapsed": 376,
     "status": "ok",
     "timestamp": 1635356923108,
     "user": {
      "displayName": "אלון מור",
      "photoUrl": "https://lh3.googleusercontent.com/a/default-user=s64",
      "userId": "02239198260284772342"
     },
     "user_tz": -180
    },
    "id": "6bAcSvJnZ8tH",
    "outputId": "caa96e12-1dd5-4603-9d1a-8b6396660ffe"
   },
   "outputs": [
    {
     "data": {
      "text/plain": [
       "count    714.000000\n",
       "mean      29.699118\n",
       "std       14.526497\n",
       "min        0.420000\n",
       "25%       20.125000\n",
       "50%       28.000000\n",
       "75%       38.000000\n",
       "max       80.000000\n",
       "Name: Age, dtype: float64"
      ]
     },
     "execution_count": 24,
     "metadata": {},
     "output_type": "execute_result"
    }
   ],
   "source": [
    "df1.Age.describe()"
   ]
  },
  {
   "cell_type": "markdown",
   "metadata": {
    "id": "m_5jWdkGKmo6"
   },
   "source": [
    "Read about [`pandas.Series.fillna`](https://pandas.pydata.org/pandas-docs/stable/reference/api/pandas.Series.fillna.html?highlight=fillna#pandas.Series.fillna).  \n",
    " **(T5)** Replace the missing ages `df1` with the general age *median*, and insert the result into variable `filledDf`."
   ]
  },
  {
   "cell_type": "code",
   "execution_count": 25,
   "metadata": {
    "executionInfo": {
     "elapsed": 382,
     "status": "ok",
     "timestamp": 1635357147569,
     "user": {
      "displayName": "אלון מור",
      "photoUrl": "https://lh3.googleusercontent.com/a/default-user=s64",
      "userId": "02239198260284772342"
     },
     "user_tz": -180
    },
    "id": "V_JXxB-9I5OX"
   },
   "outputs": [],
   "source": [
    "filledDf = df1.fillna(value=df1.Age.median())"
   ]
  },
  {
   "cell_type": "code",
   "execution_count": 26,
   "metadata": {
    "colab": {
     "base_uri": "https://localhost:8080/"
    },
    "executionInfo": {
     "elapsed": 333,
     "status": "ok",
     "timestamp": 1635357149452,
     "user": {
      "displayName": "אלון מור",
      "photoUrl": "https://lh3.googleusercontent.com/a/default-user=s64",
      "userId": "02239198260284772342"
     },
     "user_tz": -180
    },
    "id": "uvoV8S1eKMtU",
    "outputId": "af7b3e6e-da32-405f-e7ce-8b0ef22b5bae"
   },
   "outputs": [
    {
     "name": "stdout",
     "output_type": "stream",
     "text": [
      "0 out of 891 passengers do not have a recorded age\n"
     ]
    }
   ],
   "source": [
    "print(\"{} out of {} passengers do not have a recorded age\".format(filledDf[filledDf.Age.isna()].shape[0], filledDf.shape[0]))"
   ]
  },
  {
   "cell_type": "markdown",
   "metadata": {
    "id": "5dBIJckKbFoz"
   },
   "source": [
    "Let's see the statistics of the column **after** the imputation."
   ]
  },
  {
   "cell_type": "code",
   "execution_count": 27,
   "metadata": {
    "colab": {
     "base_uri": "https://localhost:8080/"
    },
    "executionInfo": {
     "elapsed": 468,
     "status": "ok",
     "timestamp": 1635357151452,
     "user": {
      "displayName": "אלון מור",
      "photoUrl": "https://lh3.googleusercontent.com/a/default-user=s64",
      "userId": "02239198260284772342"
     },
     "user_tz": -180
    },
    "id": "7ruT3GwSbTLY",
    "outputId": "c116aec0-27a2-47cd-e7ed-d37db5354a01"
   },
   "outputs": [
    {
     "data": {
      "text/plain": [
       "count    891.000000\n",
       "mean      29.361582\n",
       "std       13.019697\n",
       "min        0.420000\n",
       "25%       22.000000\n",
       "50%       28.000000\n",
       "75%       35.000000\n",
       "max       80.000000\n",
       "Name: Age, dtype: float64"
      ]
     },
     "execution_count": 27,
     "metadata": {},
     "output_type": "execute_result"
    }
   ],
   "source": [
    "filledDf.Age.describe()"
   ]
  },
  {
   "cell_type": "markdown",
   "metadata": {
    "id": "1pQsWKpDezGi"
   },
   "source": [
    " **(T6)** Answer below: which statistics changed, and which have not? Why?"
   ]
  },
  {
   "cell_type": "markdown",
   "metadata": {
    "id": "yVOgSFVRe7cu"
   },
   "source": [
    "**Changed:**\n",
    "\n",
    "Count - now all rows have age value which is nit NaN\n",
    "\n",
    "Mean - lower, because the median here is lower than the mean, and we added median value to the examples that had NaN \n",
    "\n",
    "Std - lower because more passengers now have age more close to the mean, so now the data is less scattered, thus the std is lower\n",
    "\n",
    "25% - higher. Now more elements are counted in the 25%. Because the added age values which are higher than previous 25%, now it's higher\n",
    "\n",
    "75% -  lower because we added age value which is lower then previous 75%\n",
    "\n",
    "**Not Changed:**\n",
    "\n",
    "Min, Max - adding values between the min and max values doesn't change them\n",
    "\n",
    "50% - the median is exactly the value of the 50%, thus adding examples with this value doesn't change the 50% value\n",
    "\n"
   ]
  },
  {
   "cell_type": "markdown",
   "metadata": {
    "id": "Op064-8s2aqW"
   },
   "source": [
    "## Plotting\n",
    "Basic plotting in pandas is pretty straightforward"
   ]
  },
  {
   "cell_type": "code",
   "execution_count": 28,
   "metadata": {
    "id": "a8AONyPK2aqY"
   },
   "outputs": [
    {
     "data": {
      "image/png": "[encoded data removed]",
      "text/plain": [
       "<Figure size 720x432 with 1 Axes>"
      ]
     },
     "metadata": {
      "needs_background": "light"
     },
     "output_type": "display_data"
    }
   ],
   "source": [
    "new_plot = pd.crosstab([train.Pclass, train.Sex], train.Survived, normalize=\"index\")\n",
    "new_plot.plot(kind='bar', stacked=True, color=['red', 'blue'], grid=False, figsize=(10,6))\n",
    "plt.yticks(np.linspace(0,1,21))\n",
    "plt.grid()"
   ]
  },
  {
   "cell_type": "markdown",
   "metadata": {
    "id": "EwMXqkhpfN3d"
   },
   "source": [
    " **(T7)** Answer below: which group (class $\\times$ sex) had the best survival rate? Which had the worst?"
   ]
  },
  {
   "cell_type": "markdown",
   "metadata": {
    "id": "eEinRYOXfOrY"
   },
   "source": [
    "(1, female) had the best survival rate ~ 97.5%\n",
    "(3, male) had the worst survival rate ~ 12.5%"
   ]
  },
  {
   "cell_type": "markdown",
   "metadata": {
    "id": "uJGeuhhV2aqi"
   },
   "source": [
    "# What is Matplotlib\n",
    "\n",
    "A 2D plotting library which produces publication quality figures.\n",
    " - Can be used in python scripts, the python and IPython shell, web application servers, and more …\n",
    " - Can be used to generate plots, histograms, power spectra, bar charts, errorcharts, scatterplots, etc.\n",
    " - For simple plotting, pyplot provides a MATLAB-like interface \n",
    " - For power users, a full control via OO interface or via a set of functions\n",
    "\n",
    "There are several Matplotlib add-on toolkits\n",
    " - Projection and mapping toolkits [basemap](http://matplotlib.org/basemap/) and [cartopy](http://scitools.org.uk/cartopy/).\n",
    " - Interactive plots in web browsers using [Bokeh](http://bokeh.pydata.org/en/latest/).\n",
    " - Higher level interface with updated visualizations [Seaborn](http://seaborn.pydata.org/index.html).\n",
    "\n",
    "Matplotlib is available at [www.matplotlib.org](www.matplotlib.org)"
   ]
  },
  {
   "cell_type": "code",
   "execution_count": 29,
   "metadata": {
    "id": "Y0ixhvQS2aql"
   },
   "outputs": [],
   "source": [
    "import matplotlib.pyplot as plt\n",
    "import numpy as np"
   ]
  },
  {
   "cell_type": "markdown",
   "metadata": {
    "id": "JU4i6qIk2aqj"
   },
   "source": [
    "## Line Plots"
   ]
  },
  {
   "cell_type": "markdown",
   "metadata": {
    "id": "-2Bc8EAPS5ZR"
   },
   "source": [
    "The following code plots the survival rate per age group (computed above).\n",
    "\n",
    " **(T8)** Use the [matplotlib documentation](https://matplotlib.org/) to add a grid and suitable axis labels to the following plot."
   ]
  },
  {
   "cell_type": "code",
   "execution_count": 30,
   "metadata": {
    "id": "cSCDtmYzSUmb"
   },
   "outputs": [
    {
     "ename": "TypeError",
     "evalue": "float() argument must be a string or a number, not 'pandas._libs.interval.Interval'",
     "output_type": "error",
     "traceback": [
      "\u001b[1;31m---------------------------------------------------------------------------\u001b[0m",
      "\u001b[1;31mTypeError\u001b[0m                                 Traceback (most recent call last)",
      "\u001b[1;32m~\\AppData\\Local\\Temp/ipykernel_16136/565638611.py\u001b[0m in \u001b[0;36m<module>\u001b[1;34m\u001b[0m\n\u001b[1;32m----> 1\u001b[1;33m \u001b[0mplt\u001b[0m\u001b[1;33m.\u001b[0m\u001b[0mplot\u001b[0m\u001b[1;33m(\u001b[0m\u001b[0msurvivalPerAgeGroup\u001b[0m\u001b[1;33m.\u001b[0m\u001b[0mAge\u001b[0m\u001b[1;33m,\u001b[0m \u001b[0msurvivalPerAgeGroup\u001b[0m\u001b[1;33m.\u001b[0m\u001b[0mSurvived\u001b[0m\u001b[1;33m)\u001b[0m\u001b[1;33m\u001b[0m\u001b[1;33m\u001b[0m\u001b[0m\n\u001b[0m\u001b[0;32m      2\u001b[0m \u001b[0m_\u001b[0m \u001b[1;33m=\u001b[0m \u001b[0mplt\u001b[0m\u001b[1;33m.\u001b[0m\u001b[0mtitle\u001b[0m\u001b[1;33m(\u001b[0m\u001b[1;34m\"Survival per age group\"\u001b[0m\u001b[1;33m)\u001b[0m\u001b[1;33m\u001b[0m\u001b[1;33m\u001b[0m\u001b[0m\n\u001b[0;32m      3\u001b[0m \u001b[0mplt\u001b[0m\u001b[1;33m.\u001b[0m\u001b[0mxlabel\u001b[0m\u001b[1;33m(\u001b[0m\u001b[1;34m'age group'\u001b[0m\u001b[1;33m)\u001b[0m\u001b[1;33m\u001b[0m\u001b[1;33m\u001b[0m\u001b[0m\n\u001b[0;32m      4\u001b[0m \u001b[0mplt\u001b[0m\u001b[1;33m.\u001b[0m\u001b[0mylabel\u001b[0m\u001b[1;33m(\u001b[0m\u001b[1;34m'survival rate'\u001b[0m\u001b[1;33m)\u001b[0m\u001b[1;33m\u001b[0m\u001b[1;33m\u001b[0m\u001b[0m\n\u001b[0;32m      5\u001b[0m \u001b[0mplt\u001b[0m\u001b[1;33m.\u001b[0m\u001b[0mgrid\u001b[0m\u001b[1;33m(\u001b[0m\u001b[1;33m)\u001b[0m\u001b[1;33m\u001b[0m\u001b[1;33m\u001b[0m\u001b[0m\n",
      "\u001b[1;32mc:\\users\\alon\\miniconda3\\lib\\site-packages\\matplotlib\\pyplot.py\u001b[0m in \u001b[0;36mplot\u001b[1;34m(scalex, scaley, data, *args, **kwargs)\u001b[0m\n\u001b[0;32m   3017\u001b[0m \u001b[1;33m@\u001b[0m\u001b[0m_copy_docstring_and_deprecators\u001b[0m\u001b[1;33m(\u001b[0m\u001b[0mAxes\u001b[0m\u001b[1;33m.\u001b[0m\u001b[0mplot\u001b[0m\u001b[1;33m)\u001b[0m\u001b[1;33m\u001b[0m\u001b[1;33m\u001b[0m\u001b[0m\n\u001b[0;32m   3018\u001b[0m \u001b[1;32mdef\u001b[0m \u001b[0mplot\u001b[0m\u001b[1;33m(\u001b[0m\u001b[1;33m*\u001b[0m\u001b[0margs\u001b[0m\u001b[1;33m,\u001b[0m \u001b[0mscalex\u001b[0m\u001b[1;33m=\u001b[0m\u001b[1;32mTrue\u001b[0m\u001b[1;33m,\u001b[0m \u001b[0mscaley\u001b[0m\u001b[1;33m=\u001b[0m\u001b[1;32mTrue\u001b[0m\u001b[1;33m,\u001b[0m \u001b[0mdata\u001b[0m\u001b[1;33m=\u001b[0m\u001b[1;32mNone\u001b[0m\u001b[1;33m,\u001b[0m \u001b[1;33m**\u001b[0m\u001b[0mkwargs\u001b[0m\u001b[1;33m)\u001b[0m\u001b[1;33m:\u001b[0m\u001b[1;33m\u001b[0m\u001b[1;33m\u001b[0m\u001b[0m\n\u001b[1;32m-> 3019\u001b[1;33m     return gca().plot(\n\u001b[0m\u001b[0;32m   3020\u001b[0m         \u001b[1;33m*\u001b[0m\u001b[0margs\u001b[0m\u001b[1;33m,\u001b[0m \u001b[0mscalex\u001b[0m\u001b[1;33m=\u001b[0m\u001b[0mscalex\u001b[0m\u001b[1;33m,\u001b[0m \u001b[0mscaley\u001b[0m\u001b[1;33m=\u001b[0m\u001b[0mscaley\u001b[0m\u001b[1;33m,\u001b[0m\u001b[1;33m\u001b[0m\u001b[1;33m\u001b[0m\u001b[0m\n\u001b[0;32m   3021\u001b[0m         **({\"data\": data} if data is not None else {}), **kwargs)\n",
      "\u001b[1;32mc:\\users\\alon\\miniconda3\\lib\\site-packages\\matplotlib\\axes\\_axes.py\u001b[0m in \u001b[0;36mplot\u001b[1;34m(self, scalex, scaley, data, *args, **kwargs)\u001b[0m\n\u001b[0;32m   1605\u001b[0m         \u001b[0mlines\u001b[0m \u001b[1;33m=\u001b[0m \u001b[1;33m[\u001b[0m\u001b[1;33m*\u001b[0m\u001b[0mself\u001b[0m\u001b[1;33m.\u001b[0m\u001b[0m_get_lines\u001b[0m\u001b[1;33m(\u001b[0m\u001b[1;33m*\u001b[0m\u001b[0margs\u001b[0m\u001b[1;33m,\u001b[0m \u001b[0mdata\u001b[0m\u001b[1;33m=\u001b[0m\u001b[0mdata\u001b[0m\u001b[1;33m,\u001b[0m \u001b[1;33m**\u001b[0m\u001b[0mkwargs\u001b[0m\u001b[1;33m)\u001b[0m\u001b[1;33m]\u001b[0m\u001b[1;33m\u001b[0m\u001b[1;33m\u001b[0m\u001b[0m\n\u001b[0;32m   1606\u001b[0m         \u001b[1;32mfor\u001b[0m \u001b[0mline\u001b[0m \u001b[1;32min\u001b[0m \u001b[0mlines\u001b[0m\u001b[1;33m:\u001b[0m\u001b[1;33m\u001b[0m\u001b[1;33m\u001b[0m\u001b[0m\n\u001b[1;32m-> 1607\u001b[1;33m             \u001b[0mself\u001b[0m\u001b[1;33m.\u001b[0m\u001b[0madd_line\u001b[0m\u001b[1;33m(\u001b[0m\u001b[0mline\u001b[0m\u001b[1;33m)\u001b[0m\u001b[1;33m\u001b[0m\u001b[1;33m\u001b[0m\u001b[0m\n\u001b[0m\u001b[0;32m   1608\u001b[0m         \u001b[0mself\u001b[0m\u001b[1;33m.\u001b[0m\u001b[0m_request_autoscale_view\u001b[0m\u001b[1;33m(\u001b[0m\u001b[0mscalex\u001b[0m\u001b[1;33m=\u001b[0m\u001b[0mscalex\u001b[0m\u001b[1;33m,\u001b[0m \u001b[0mscaley\u001b[0m\u001b[1;33m=\u001b[0m\u001b[0mscaley\u001b[0m\u001b[1;33m)\u001b[0m\u001b[1;33m\u001b[0m\u001b[1;33m\u001b[0m\u001b[0m\n\u001b[0;32m   1609\u001b[0m         \u001b[1;32mreturn\u001b[0m \u001b[0mlines\u001b[0m\u001b[1;33m\u001b[0m\u001b[1;33m\u001b[0m\u001b[0m\n",
      "\u001b[1;32mc:\\users\\alon\\miniconda3\\lib\\site-packages\\matplotlib\\axes\\_base.py\u001b[0m in \u001b[0;36madd_line\u001b[1;34m(self, line)\u001b[0m\n\u001b[0;32m   2099\u001b[0m             \u001b[0mline\u001b[0m\u001b[1;33m.\u001b[0m\u001b[0mset_clip_path\u001b[0m\u001b[1;33m(\u001b[0m\u001b[0mself\u001b[0m\u001b[1;33m.\u001b[0m\u001b[0mpatch\u001b[0m\u001b[1;33m)\u001b[0m\u001b[1;33m\u001b[0m\u001b[1;33m\u001b[0m\u001b[0m\n\u001b[0;32m   2100\u001b[0m \u001b[1;33m\u001b[0m\u001b[0m\n\u001b[1;32m-> 2101\u001b[1;33m         \u001b[0mself\u001b[0m\u001b[1;33m.\u001b[0m\u001b[0m_update_line_limits\u001b[0m\u001b[1;33m(\u001b[0m\u001b[0mline\u001b[0m\u001b[1;33m)\u001b[0m\u001b[1;33m\u001b[0m\u001b[1;33m\u001b[0m\u001b[0m\n\u001b[0m\u001b[0;32m   2102\u001b[0m         \u001b[1;32mif\u001b[0m \u001b[1;32mnot\u001b[0m \u001b[0mline\u001b[0m\u001b[1;33m.\u001b[0m\u001b[0mget_label\u001b[0m\u001b[1;33m(\u001b[0m\u001b[1;33m)\u001b[0m\u001b[1;33m:\u001b[0m\u001b[1;33m\u001b[0m\u001b[1;33m\u001b[0m\u001b[0m\n\u001b[0;32m   2103\u001b[0m             \u001b[0mline\u001b[0m\u001b[1;33m.\u001b[0m\u001b[0mset_label\u001b[0m\u001b[1;33m(\u001b[0m\u001b[1;34m'_line%d'\u001b[0m \u001b[1;33m%\u001b[0m \u001b[0mlen\u001b[0m\u001b[1;33m(\u001b[0m\u001b[0mself\u001b[0m\u001b[1;33m.\u001b[0m\u001b[0mlines\u001b[0m\u001b[1;33m)\u001b[0m\u001b[1;33m)\u001b[0m\u001b[1;33m\u001b[0m\u001b[1;33m\u001b[0m\u001b[0m\n",
      "\u001b[1;32mc:\\users\\alon\\miniconda3\\lib\\site-packages\\matplotlib\\axes\\_base.py\u001b[0m in \u001b[0;36m_update_line_limits\u001b[1;34m(self, line)\u001b[0m\n\u001b[0;32m   2121\u001b[0m         \u001b[0mFigures\u001b[0m \u001b[0mout\u001b[0m \u001b[0mthe\u001b[0m \u001b[0mdata\u001b[0m \u001b[0mlimit\u001b[0m \u001b[0mof\u001b[0m \u001b[0mthe\u001b[0m \u001b[0mgiven\u001b[0m \u001b[0mline\u001b[0m\u001b[1;33m,\u001b[0m \u001b[0mupdating\u001b[0m \u001b[0mself\u001b[0m\u001b[1;33m.\u001b[0m\u001b[0mdataLim\u001b[0m\u001b[1;33m.\u001b[0m\u001b[1;33m\u001b[0m\u001b[1;33m\u001b[0m\u001b[0m\n\u001b[0;32m   2122\u001b[0m         \"\"\"\n\u001b[1;32m-> 2123\u001b[1;33m         \u001b[0mpath\u001b[0m \u001b[1;33m=\u001b[0m \u001b[0mline\u001b[0m\u001b[1;33m.\u001b[0m\u001b[0mget_path\u001b[0m\u001b[1;33m(\u001b[0m\u001b[1;33m)\u001b[0m\u001b[1;33m\u001b[0m\u001b[1;33m\u001b[0m\u001b[0m\n\u001b[0m\u001b[0;32m   2124\u001b[0m         \u001b[1;32mif\u001b[0m \u001b[0mpath\u001b[0m\u001b[1;33m.\u001b[0m\u001b[0mvertices\u001b[0m\u001b[1;33m.\u001b[0m\u001b[0msize\u001b[0m \u001b[1;33m==\u001b[0m \u001b[1;36m0\u001b[0m\u001b[1;33m:\u001b[0m\u001b[1;33m\u001b[0m\u001b[1;33m\u001b[0m\u001b[0m\n\u001b[0;32m   2125\u001b[0m             \u001b[1;32mreturn\u001b[0m\u001b[1;33m\u001b[0m\u001b[1;33m\u001b[0m\u001b[0m\n",
      "\u001b[1;32mc:\\users\\alon\\miniconda3\\lib\\site-packages\\matplotlib\\lines.py\u001b[0m in \u001b[0;36mget_path\u001b[1;34m(self)\u001b[0m\n\u001b[0;32m   1020\u001b[0m         \"\"\"\n\u001b[0;32m   1021\u001b[0m         \u001b[1;32mif\u001b[0m \u001b[0mself\u001b[0m\u001b[1;33m.\u001b[0m\u001b[0m_invalidy\u001b[0m \u001b[1;32mor\u001b[0m \u001b[0mself\u001b[0m\u001b[1;33m.\u001b[0m\u001b[0m_invalidx\u001b[0m\u001b[1;33m:\u001b[0m\u001b[1;33m\u001b[0m\u001b[1;33m\u001b[0m\u001b[0m\n\u001b[1;32m-> 1022\u001b[1;33m             \u001b[0mself\u001b[0m\u001b[1;33m.\u001b[0m\u001b[0mrecache\u001b[0m\u001b[1;33m(\u001b[0m\u001b[1;33m)\u001b[0m\u001b[1;33m\u001b[0m\u001b[1;33m\u001b[0m\u001b[0m\n\u001b[0m\u001b[0;32m   1023\u001b[0m         \u001b[1;32mreturn\u001b[0m \u001b[0mself\u001b[0m\u001b[1;33m.\u001b[0m\u001b[0m_path\u001b[0m\u001b[1;33m\u001b[0m\u001b[1;33m\u001b[0m\u001b[0m\n\u001b[0;32m   1024\u001b[0m \u001b[1;33m\u001b[0m\u001b[0m\n",
      "\u001b[1;32mc:\\users\\alon\\miniconda3\\lib\\site-packages\\matplotlib\\lines.py\u001b[0m in \u001b[0;36mrecache\u001b[1;34m(self, always)\u001b[0m\n\u001b[0;32m    661\u001b[0m         \u001b[1;32mif\u001b[0m \u001b[0malways\u001b[0m \u001b[1;32mor\u001b[0m \u001b[0mself\u001b[0m\u001b[1;33m.\u001b[0m\u001b[0m_invalidx\u001b[0m\u001b[1;33m:\u001b[0m\u001b[1;33m\u001b[0m\u001b[1;33m\u001b[0m\u001b[0m\n\u001b[0;32m    662\u001b[0m             \u001b[0mxconv\u001b[0m \u001b[1;33m=\u001b[0m \u001b[0mself\u001b[0m\u001b[1;33m.\u001b[0m\u001b[0mconvert_xunits\u001b[0m\u001b[1;33m(\u001b[0m\u001b[0mself\u001b[0m\u001b[1;33m.\u001b[0m\u001b[0m_xorig\u001b[0m\u001b[1;33m)\u001b[0m\u001b[1;33m\u001b[0m\u001b[1;33m\u001b[0m\u001b[0m\n\u001b[1;32m--> 663\u001b[1;33m             \u001b[0mx\u001b[0m \u001b[1;33m=\u001b[0m \u001b[0m_to_unmasked_float_array\u001b[0m\u001b[1;33m(\u001b[0m\u001b[0mxconv\u001b[0m\u001b[1;33m)\u001b[0m\u001b[1;33m.\u001b[0m\u001b[0mravel\u001b[0m\u001b[1;33m(\u001b[0m\u001b[1;33m)\u001b[0m\u001b[1;33m\u001b[0m\u001b[1;33m\u001b[0m\u001b[0m\n\u001b[0m\u001b[0;32m    664\u001b[0m         \u001b[1;32melse\u001b[0m\u001b[1;33m:\u001b[0m\u001b[1;33m\u001b[0m\u001b[1;33m\u001b[0m\u001b[0m\n\u001b[0;32m    665\u001b[0m             \u001b[0mx\u001b[0m \u001b[1;33m=\u001b[0m \u001b[0mself\u001b[0m\u001b[1;33m.\u001b[0m\u001b[0m_x\u001b[0m\u001b[1;33m\u001b[0m\u001b[1;33m\u001b[0m\u001b[0m\n",
      "\u001b[1;32mc:\\users\\alon\\miniconda3\\lib\\site-packages\\matplotlib\\cbook\\__init__.py\u001b[0m in \u001b[0;36m_to_unmasked_float_array\u001b[1;34m(x)\u001b[0m\n\u001b[0;32m   1331\u001b[0m         \u001b[1;32mreturn\u001b[0m \u001b[0mnp\u001b[0m\u001b[1;33m.\u001b[0m\u001b[0mma\u001b[0m\u001b[1;33m.\u001b[0m\u001b[0masarray\u001b[0m\u001b[1;33m(\u001b[0m\u001b[0mx\u001b[0m\u001b[1;33m,\u001b[0m \u001b[0mfloat\u001b[0m\u001b[1;33m)\u001b[0m\u001b[1;33m.\u001b[0m\u001b[0mfilled\u001b[0m\u001b[1;33m(\u001b[0m\u001b[0mnp\u001b[0m\u001b[1;33m.\u001b[0m\u001b[0mnan\u001b[0m\u001b[1;33m)\u001b[0m\u001b[1;33m\u001b[0m\u001b[1;33m\u001b[0m\u001b[0m\n\u001b[0;32m   1332\u001b[0m     \u001b[1;32melse\u001b[0m\u001b[1;33m:\u001b[0m\u001b[1;33m\u001b[0m\u001b[1;33m\u001b[0m\u001b[0m\n\u001b[1;32m-> 1333\u001b[1;33m         \u001b[1;32mreturn\u001b[0m \u001b[0mnp\u001b[0m\u001b[1;33m.\u001b[0m\u001b[0masarray\u001b[0m\u001b[1;33m(\u001b[0m\u001b[0mx\u001b[0m\u001b[1;33m,\u001b[0m \u001b[0mfloat\u001b[0m\u001b[1;33m)\u001b[0m\u001b[1;33m\u001b[0m\u001b[1;33m\u001b[0m\u001b[0m\n\u001b[0m\u001b[0;32m   1334\u001b[0m \u001b[1;33m\u001b[0m\u001b[0m\n\u001b[0;32m   1335\u001b[0m \u001b[1;33m\u001b[0m\u001b[0m\n",
      "\u001b[1;32mc:\\users\\alon\\miniconda3\\lib\\site-packages\\numpy\\core\\_asarray.py\u001b[0m in \u001b[0;36masarray\u001b[1;34m(a, dtype, order, like)\u001b[0m\n\u001b[0;32m    100\u001b[0m         \u001b[1;32mreturn\u001b[0m \u001b[0m_asarray_with_like\u001b[0m\u001b[1;33m(\u001b[0m\u001b[0ma\u001b[0m\u001b[1;33m,\u001b[0m \u001b[0mdtype\u001b[0m\u001b[1;33m=\u001b[0m\u001b[0mdtype\u001b[0m\u001b[1;33m,\u001b[0m \u001b[0morder\u001b[0m\u001b[1;33m=\u001b[0m\u001b[0morder\u001b[0m\u001b[1;33m,\u001b[0m \u001b[0mlike\u001b[0m\u001b[1;33m=\u001b[0m\u001b[0mlike\u001b[0m\u001b[1;33m)\u001b[0m\u001b[1;33m\u001b[0m\u001b[1;33m\u001b[0m\u001b[0m\n\u001b[0;32m    101\u001b[0m \u001b[1;33m\u001b[0m\u001b[0m\n\u001b[1;32m--> 102\u001b[1;33m     \u001b[1;32mreturn\u001b[0m \u001b[0marray\u001b[0m\u001b[1;33m(\u001b[0m\u001b[0ma\u001b[0m\u001b[1;33m,\u001b[0m \u001b[0mdtype\u001b[0m\u001b[1;33m,\u001b[0m \u001b[0mcopy\u001b[0m\u001b[1;33m=\u001b[0m\u001b[1;32mFalse\u001b[0m\u001b[1;33m,\u001b[0m \u001b[0morder\u001b[0m\u001b[1;33m=\u001b[0m\u001b[0morder\u001b[0m\u001b[1;33m)\u001b[0m\u001b[1;33m\u001b[0m\u001b[1;33m\u001b[0m\u001b[0m\n\u001b[0m\u001b[0;32m    103\u001b[0m \u001b[1;33m\u001b[0m\u001b[0m\n\u001b[0;32m    104\u001b[0m \u001b[1;33m\u001b[0m\u001b[0m\n",
      "\u001b[1;31mTypeError\u001b[0m: float() argument must be a string or a number, not 'pandas._libs.interval.Interval'"
     ]
    },
    {
     "data": {
      "image/png": "[encoded data removed]",
      "text/plain": [
       "<Figure size 432x288 with 1 Axes>"
      ]
     },
     "metadata": {
      "needs_background": "light"
     },
     "output_type": "display_data"
    }
   ],
   "source": [
    "plt.plot(survivalPerAgeGroup.Age, survivalPerAgeGroup.Survived)\n",
    "_ = plt.title(\"Survival per age group\")\n",
    "plt.xlabel('age group')\n",
    "plt.ylabel('survival rate')\n",
    "plt.grid()\n",
    "plt.show()"
   ]
  },
  {
   "cell_type": "markdown",
   "metadata": {
    "id": "HOfPan8W2arb"
   },
   "source": [
    "\n",
    "## Scatter plots"
   ]
  },
  {
   "cell_type": "markdown",
   "metadata": {
    "id": "txMG5DT7U_nP"
   },
   "source": [
    " **(T9)** Alter the [matplotlib.pyplot.scatter](https://matplotlib.org/stable/api/_as_gen/matplotlib.pyplot.scatter.html) command, so that the scattered dots will be `green`, and their size will be `5`.\n",
    "\n",
    "Also, add a grid and suitable axis labels."
   ]
  },
  {
   "cell_type": "code",
   "execution_count": 31,
   "metadata": {
    "id": "oMOAxO1aR-VX"
   },
   "outputs": [
    {
     "data": {
      "image/png": "[encoded data removed]",
      "text/plain": [
       "<Figure size 720x432 with 1 Axes>"
      ]
     },
     "metadata": {
      "needs_background": "light"
     },
     "output_type": "display_data"
    }
   ],
   "source": [
    "# TODO : Update the plot as required.\n",
    "plt.figure(figsize=(10,6))\n",
    "_ = plt.scatter(train.Age, train.Fare, color='green', s = 5)"
   ]
  },
  {
   "cell_type": "markdown",
   "metadata": {
    "id": "Xd6iimntjGkF"
   },
   "source": [
    "**(T10)** Answer below: approximately how old are the two highest paying passengers?"
   ]
  },
  {
   "cell_type": "markdown",
   "metadata": {
    "id": "MKAV7ZLl2ZHg"
   },
   "source": [
    "Their age is about 37-38 "
   ]
  },
  {
   "cell_type": "markdown",
   "metadata": {
    "id": "V_zTkaWys3GH"
   },
   "source": [
    "----\n",
    "\n",
    "# Probability refresher\n",
    "\n",
    "## Q1 - Variance of empirical mean\n",
    "\n",
    "Let $X_1, \\dots, X_m$ be i.i.d random variables with mean $\\mathbb{E}\\left[X_i\\right]=\\mu$.  \n",
    "We would like to \"guess\", or more formally, estimate (לְשַׁעֲרֵךְ), the mean $\\mu$ from the observations $x_1,\\dots,x_m$.  \n",
    "We use the empirical mean $\\overline{X} = \\frac{1}{m}\\sum_i X_i$ as an estimator for the unknown mean $\\mu$. Notice that $\\overline{X}$ is itself a random variable.  \n",
    "**Note:** The instantiation of  $\\overline{X}$ is usually denoted by $\\hat{\\mu}=\\frac{1}{m}\\sum_i x_i$, but this is currently out of scope.\n",
    "\n",
    "1.   Express analytically the expectation of $\\overline{X}$.  \n",
    "2.   Express analytically the variance of $\\overline{X}$.  \n"
   ]
  },
  {
   "cell_type": "markdown",
   "metadata": {
    "id": "YY4xvJFF1Plj"
   },
   "source": [
    "#### You will now verify the expression you wrote for the variance.  \n",
    "We assume $\\forall i: X_i\\sim\\mathcal{N}\\left(0, 1\\right)$.  \n",
    "We compute the empirical mean's variances for sample sizes $m=1,\\dots,30$.  \n",
    "For each sample size $m$, we sample $m$ normal variables and compute their empirical mean. We repeat this step $10$ times, and compute the variance of the empirical means (for each $m$).\n",
    "\n",
    "3.   Complete the code blocks below according to the instructions and verify that your analytic function of the empirical mean's variance against as a function of $m$ suits the empirical findings.|"
   ]
  },
  {
   "cell_type": "code",
   "execution_count": 32,
   "metadata": {
    "id": "xiGAh0j-Ks0R"
   },
   "outputs": [],
   "source": [
    "all_sample_sizes = range(1, 30)\n",
    "repeats_per_size = 10\n",
    "\n",
    "allVariances = []\n",
    "\n",
    "for m in all_sample_sizes:\n",
    "  empiricalMeans = []\n",
    "  \n",
    "  for _ in range(repeats_per_size):\n",
    "    # Random m examples and compute their empirical mean\n",
    "    X = np.random.randn(m)\n",
    "    empiricalMeans.append(np.mean(X))\n",
    "\n",
    "  # TODO: Using numpy, compute the variance of the empirical means that are in \n",
    "  # the `empiricalMeans` list (you can google the numpy function for variance)\n",
    "  variance = np.var(empiricalMeans)\n",
    "  \n",
    "  allVariances.append(variance)"
   ]
  },
  {
   "cell_type": "markdown",
   "metadata": {
    "id": "lm3DEBs_VsqD"
   },
   "source": [
    "Read about [`numpy.power`](https://numpy.org/doc/stable/reference/generated/numpy.power.html) and complete the following computation of the anayltic variance.  \n",
    "Notice that when using a negative power, `numpy.power` expects `floats`, not `integers`. Use `astype` like we did!"
   ]
  },
  {
   "cell_type": "code",
   "execution_count": 35,
   "metadata": {
    "id": "5LuqLzIHN-6i"
   },
   "outputs": [],
   "source": [
    "# TODO: compute the analytic variance \n",
    "# (For instance, the current command wrongfully sets the variance \n",
    "# of an empirical mean of a sample with m variables as (2m+5), \n",
    "# for all m's from 1 to 30\n",
    "analyticVariance = np.power(np.array(all_sample_sizes).astype(float), -1)"
   ]
  },
  {
   "cell_type": "markdown",
   "metadata": {
    "id": "Ux0beQNZWHQL"
   },
   "source": [
    "The following code plots the results from the above code. **Do not** edit it, only run it."
   ]
  },
  {
   "cell_type": "code",
   "execution_count": 36,
   "metadata": {
    "id": "1zM2cnVvL18Z"
   },
   "outputs": [
    {
     "data": {
      "image/png": "[encoded data removed]",
      "text/plain": [
       "<Figure size 1080x360 with 2 Axes>"
      ]
     },
     "metadata": {
      "needs_background": "light"
     },
     "output_type": "display_data"
    }
   ],
   "source": [
    "fig, axes = plt.subplots(1,2, figsize=(15,5))\n",
    "axes[0].plot(all_sample_sizes, allVariances, label=\"Empiric\")\n",
    "axes[0].plot(all_sample_sizes, analyticVariance, label=\"Analytic\")\n",
    "axes[0].grid()\n",
    "axes[0].legend(fontsize=14)\n",
    "axes[0].set_title(\"Regular scale\", fontsize=14)\n",
    "axes[0].set_xlabel(\"Sample size (m)\", fontsize=12)\n",
    "axes[0].set_ylabel(\"Variance\", fontsize=12)\n",
    "\n",
    "axes[1].semilogy(all_sample_sizes, allVariances, label=\"Empiric\")\n",
    "axes[1].semilogy(all_sample_sizes, analyticVariance, label=\"Analytic\")\n",
    "axes[1].grid()\n",
    "axes[1].legend(fontsize=14)\n",
    "axes[1].set_title(\"Log scale\", fontsize=14)\n",
    "axes[1].set_xlabel(\"Sample size (m)\", fontsize=12)\n",
    "axes[1].set_ylabel(\"Variance\", fontsize=12)\n",
    "\n",
    "_ = plt.suptitle(\"Empirical mean's variance vs. Sample size\", \n",
    "             fontsize=16, fontweight=\"bold\")"
   ]
  },
  {
   "cell_type": "markdown",
   "metadata": {
    "id": "zpyDDBQaYYVs"
   },
   "source": [
    "4.  How would the plot above change if for each sample size we will run $1000$ repetitions instead of $10$? Explain briefly."
   ]
  },
  {
   "cell_type": "markdown",
   "metadata": {
    "id": "4e1sVgZXXwWu"
   },
   "source": [
    "## Reminder - Hoeffding's Inequality\n",
    "Let $\\theta_1, \\dots, \\theta_m$ be i.i.d random variables with mean $\\mathbb{E}\\left[\\theta_i\\right]=\\mu$.\n",
    "\n",
    "Additionally, assume all variables are bound such that $\\Pr\\left[a\\le \\theta_i \\le b\\right] = 1$.\n",
    "\n",
    "Then, for any $\\epsilon > 0$, the empirical mean $\\overline{\\theta} = \\frac{1}{m}\\sum_i \\theta_i$ holds:\n",
    "$$\\Pr\\left[\\left| \\overline{\\theta}-\\mu \\right| > \\epsilon\\right] \n",
    "\\le \n",
    "2\\exp\\left\\{-\\frac{2m\\epsilon^2}{\\left(b-a\\right)^2}\\right\\}~.$$\n"
   ]
  },
  {
   "cell_type": "markdown",
   "metadata": {
    "id": "dw7_RFipRD5T"
   },
   "source": [
    "## Q2 - Identical coins and the Hoeffding bound\n",
    "We toss $m\\in\\mathbb{N}$ identical coins, each coin $40$ times.  \n",
    "All coins have the same *unknown* probability of showing \"heads\", denoted by $𝑝 ∈ (0,1)$.  \n",
    "Let $\\theta_𝑖$ be the (observed) number of times the $i$-th coin showed \"heads\" (out of $40$ tosses).  \n"
   ]
  },
  {
   "cell_type": "markdown",
   "metadata": {
    "id": "O7N-MbZP9D_-"
   },
   "source": [
    "1.   What is the distribution of each $\\theta_𝑖$?    \n",
    "2.   What is the mean $\\mu = \\mathbb{E}\\left[\\theta_𝑖\\right]$?  \n",
    "3.   We would like to use the empirical mean defined above as an estimator $\\overline{\\theta}$ for $\\mu$.  \n",
    "Use Hoeffding’s inequality to compute the *smallest* number of coins $m$, required to estimate $\\mu$ up to an error of $\\epsilon=2$ with\n",
    "confidence $0.95$ (notice that we wish to estimate $\\mu$, not $p$).  \n",
    "That is, find the smallest $m$ that holds \n",
    "$\\Pr\\left[\\left| \\overline{\\theta}-\\mu \\right| > 2\\right] \\le 0.05$.  "
   ]
  },
  {
   "cell_type": "markdown",
   "metadata": {
    "id": "D3y1WBQL-egt"
   },
   "source": [
    "----\n",
    "# Numerical linear algebera refresher\n",
    "\n",
    "## Reminder - Positive semi-definite matrices\n",
    "\n",
    "A symmetric real matrix $A\\in\\mathbb{R}^{n \\times n}$ is called positive semi-definite (PSD) iff:\n",
    "$$\\forall x\\in\\mathbb{R}^n \\setminus{\\left\\{0_n\\right\\}}: x^\\top A x \\ge 0.$$\n",
    "If the matrix holds the above inequality *strictly*, the matrix is called positive definite.\n",
    "\n",
    "## Q3 - Eigenvalues of PSD matrices\n",
    "Let $A\\in\\mathbb{R}^{n \\times n}$ be a symmetric PSD matrix.\n",
    "Recall that all eigenvalues of real symmetric matrices are real.  \n",
    "Prove that all the eigenvalues of $A$ are non-negative.  \n"
   ]
  },
  {
   "cell_type": "markdown",
   "metadata": {
    "id": "rAVuS_XTQQjz"
   },
   "source": [
    "## Q4 - Gradients\n",
    "\n",
    "Define $f:\\mathbb{R}^{d}\\to\\mathbb{R}$, where $f(x)=w^\\top x + b$, for some vector $w\\in\\mathbb{R}^{d}$ and a scalar $b\\in\\mathbb{R}$.\n",
    "\n",
    "Recall: the gradient vector is defined as \n",
    "$\\nabla_x f=\\left[\\frac{\\partial f}{\\partial x_1},\\dots,\\frac{\\partial f}{\\partial x_d}\\right]^\\top \\in \\mathbb{R}^d$.\n",
    "1. Prove that $\\nabla_x f = w$.\n",
    "\n",
    "Recall/read the definition of the [Hessian matrix](https://en.wikipedia.org/wiki/Hessian_matrix#Definitions_and_properties) $\\nabla_x^2 f \\in \\mathbb{R}^{d\\times d}$.\n",
    "2. Find the Hessian matrix $\\nabla_x^2 f$ of the function $f$ defined in this question.\n",
    "3. Is the matrix you found positive semi-definite? Explain.\n",
    "\n",
    "Now, define $g:\\mathbb{R}^{d}\\to\\mathbb{R}$, \n",
    "where $g(w)=\\left\\Vert w \\right\\Vert^2$.\n",
    "\n",
    "4. Find the gradient vector $\\nabla_w g$.\n",
    "5. Find the Hessian matrix $\\nabla_w^2 g$.\n",
    "6. Is the matrix you found positive semi-definite? Explain.\n"
   ]
  }
 ],
 "metadata": {
  "colab": {
   "collapsed_sections": [],
   "name": "Short_HW1.ipynb",
   "provenance": [],
   "toc_visible": true
  },
  "kernelspec": {
   "display_name": "Python 3 (ipykernel)",
   "language": "python",
   "name": "python3"
  },
  "language_info": {
   "codemirror_mode": {
    "name": "ipython",
    "version": 3
   },
   "file_extension": ".py",
   "mimetype": "text/x-python",
   "name": "python",
   "nbconvert_exporter": "python",
   "pygments_lexer": "ipython3",
   "version": "3.9.5"
  }
 },
 "nbformat": 4,
 "nbformat_minor": 4
}
